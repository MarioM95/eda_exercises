{
  "cells": [
    {
      "cell_type": "markdown",
      "metadata": {
        "id": "zsn17jjRhIk7"
      },
      "source": [
        "# Practice Exercise: Exploring data (Exploratory Data Analysis)"
      ]
    },
    {
      "cell_type": "markdown",
      "metadata": {
        "id": "fVlDyh-IhIlE"
      },
      "source": [
        "## Context:\n",
        "- The data includes 120 years (1896 to 2016) of Olympic games with information about athletes and medal results.\n",
        "- We'll focus on practicing the summary statistics and data visualization techniques that we've learned in the course. \n",
        "- In general, this dataset is popular to explore how the Olympics have evolved over time, including the participation and performance of different genders, different countries, in various sports and events.\n",
        "\n",
        "- Check out the original source if you are interested in using this data for other purposes (https://www.kaggle.com/heesoo37/120-years-of-olympic-history-athletes-and-results)"
      ]
    },
    {
      "cell_type": "markdown",
      "metadata": {
        "id": "WrGAX-mhhIlF"
      },
      "source": [
        "## Dataset Description:\n",
        "\n",
        "We'll work on the data within athlete_events.csv. \n",
        "\n",
        "Each row corresponds to an individual athlete competing in an individual Olympic event.\n",
        "\n",
        "The columns are:\n",
        "- **ID**: Unique number for each athlete\n",
        "- **Name**: Athlete's name\n",
        "- **Sex**: M or F\n",
        "- **Age**: Integer\n",
        "- **Height**: In centimeters\n",
        "- **Weight**: In kilograms\n",
        "- **Team**: Team name\n",
        "- **NOC**: National Olympic Committee 3-letter code\n",
        "- **Games**: Year and season\n",
        "- **Year**: Integer\n",
        "- **Season**: Summer or Winter\n",
        "- **City**: Host city\n",
        "- **Sport**: Sport\n",
        "- **Event**: Event\n",
        "- **Medal**: Gold, Silver, Bronze, or NA"
      ]
    },
    {
      "cell_type": "markdown",
      "metadata": {
        "id": "mEZDnlVhhIlG"
      },
      "source": [
        "## Objective: \n",
        "   - Examine/clean the dataset\n",
        "   - Explore distributions of single numerical and categorical features via statistics and plots\n",
        "   - Explore relationships of multiple features via statistics and plots\n",
        "\n",
        "We are only going to explore part of the dataset, please feel free to explore more if you are interested."
      ]
    },
    {
      "cell_type": "markdown",
      "metadata": {
        "id": "lvGVEtslhIlH"
      },
      "source": [
        "### 1. Import the libraries `Pandas` and `Seaborn`"
      ]
    },
    {
      "cell_type": "code",
      "execution_count": null,
      "metadata": {
        "id": "Sv0PSeFshIlI"
      },
      "outputs": [],
      "source": [
        "import pandas as pd\n",
        "import seaborn as sns"
      ]
    },
    {
      "cell_type": "markdown",
      "metadata": {
        "id": "GCGqYnQ9hIlK"
      },
      "source": [
        "### 2. Import the data from the csv file as DataFrame `olympics`"
      ]
    },
    {
      "cell_type": "code",
      "execution_count": null,
      "metadata": {
        "id": "RuJXG6KuhIlL"
      },
      "outputs": [],
      "source": [
        "olympics = pd.read_csv('data/athlete_events.csv')"
      ]
    },
    {
      "cell_type": "markdown",
      "metadata": {
        "id": "4n9LATSdhIlL"
      },
      "source": [
        "### 3. Look at the info summary, head of the DataFrame"
      ]
    },
    {
      "cell_type": "code",
      "execution_count": null,
      "metadata": {
        "id": "-21RxFOLhIlM",
        "outputId": "d3c0b104-b6c7-477f-d556-c453a5917def"
      },
      "outputs": [
        {
          "name": "stdout",
          "output_type": "stream",
          "text": [
            "<class 'pandas.core.frame.DataFrame'>\n",
            "RangeIndex: 271116 entries, 0 to 271115\n",
            "Data columns (total 15 columns):\n",
            " #   Column  Non-Null Count   Dtype  \n",
            "---  ------  --------------   -----  \n",
            " 0   ID      271116 non-null  int64  \n",
            " 1   Name    271116 non-null  object \n",
            " 2   Sex     271116 non-null  object \n",
            " 3   Age     261642 non-null  float64\n",
            " 4   Height  210945 non-null  float64\n",
            " 5   Weight  208241 non-null  float64\n",
            " 6   Team    271116 non-null  object \n",
            " 7   NOC     271116 non-null  object \n",
            " 8   Games   271116 non-null  object \n",
            " 9   Year    271116 non-null  int64  \n",
            " 10  Season  271116 non-null  object \n",
            " 11  City    271116 non-null  object \n",
            " 12  Sport   271116 non-null  object \n",
            " 13  Event   271116 non-null  object \n",
            " 14  Medal   39783 non-null   object \n",
            "dtypes: float64(3), int64(2), object(10)\n",
            "memory usage: 31.0+ MB\n"
          ]
        }
      ],
      "source": [
        "olympics.info()"
      ]
    },
    {
      "cell_type": "code",
      "execution_count": null,
      "metadata": {
        "id": "o0arq5aphIlO",
        "outputId": "219bdab5-4b12-444c-b13a-b908ccedd9ff"
      },
      "outputs": [
        {
          "data": {
            "text/html": [
              "<div>\n",
              "<style scoped>\n",
              "    .dataframe tbody tr th:only-of-type {\n",
              "        vertical-align: middle;\n",
              "    }\n",
              "\n",
              "    .dataframe tbody tr th {\n",
              "        vertical-align: top;\n",
              "    }\n",
              "\n",
              "    .dataframe thead th {\n",
              "        text-align: right;\n",
              "    }\n",
              "</style>\n",
              "<table border=\"1\" class=\"dataframe\">\n",
              "  <thead>\n",
              "    <tr style=\"text-align: right;\">\n",
              "      <th></th>\n",
              "      <th>ID</th>\n",
              "      <th>Name</th>\n",
              "      <th>Sex</th>\n",
              "      <th>Age</th>\n",
              "      <th>Height</th>\n",
              "      <th>Weight</th>\n",
              "      <th>Team</th>\n",
              "      <th>NOC</th>\n",
              "      <th>Games</th>\n",
              "      <th>Year</th>\n",
              "      <th>Season</th>\n",
              "      <th>City</th>\n",
              "      <th>Sport</th>\n",
              "      <th>Event</th>\n",
              "      <th>Medal</th>\n",
              "    </tr>\n",
              "  </thead>\n",
              "  <tbody>\n",
              "    <tr>\n",
              "      <th>0</th>\n",
              "      <td>1</td>\n",
              "      <td>A Dijiang</td>\n",
              "      <td>M</td>\n",
              "      <td>24.0</td>\n",
              "      <td>180.0</td>\n",
              "      <td>80.0</td>\n",
              "      <td>China</td>\n",
              "      <td>CHN</td>\n",
              "      <td>1992 Summer</td>\n",
              "      <td>1992</td>\n",
              "      <td>Summer</td>\n",
              "      <td>Barcelona</td>\n",
              "      <td>Basketball</td>\n",
              "      <td>Basketball Men's Basketball</td>\n",
              "      <td>NaN</td>\n",
              "    </tr>\n",
              "    <tr>\n",
              "      <th>1</th>\n",
              "      <td>2</td>\n",
              "      <td>A Lamusi</td>\n",
              "      <td>M</td>\n",
              "      <td>23.0</td>\n",
              "      <td>170.0</td>\n",
              "      <td>60.0</td>\n",
              "      <td>China</td>\n",
              "      <td>CHN</td>\n",
              "      <td>2012 Summer</td>\n",
              "      <td>2012</td>\n",
              "      <td>Summer</td>\n",
              "      <td>London</td>\n",
              "      <td>Judo</td>\n",
              "      <td>Judo Men's Extra-Lightweight</td>\n",
              "      <td>NaN</td>\n",
              "    </tr>\n",
              "    <tr>\n",
              "      <th>2</th>\n",
              "      <td>3</td>\n",
              "      <td>Gunnar Nielsen Aaby</td>\n",
              "      <td>M</td>\n",
              "      <td>24.0</td>\n",
              "      <td>NaN</td>\n",
              "      <td>NaN</td>\n",
              "      <td>Denmark</td>\n",
              "      <td>DEN</td>\n",
              "      <td>1920 Summer</td>\n",
              "      <td>1920</td>\n",
              "      <td>Summer</td>\n",
              "      <td>Antwerpen</td>\n",
              "      <td>Football</td>\n",
              "      <td>Football Men's Football</td>\n",
              "      <td>NaN</td>\n",
              "    </tr>\n",
              "    <tr>\n",
              "      <th>3</th>\n",
              "      <td>4</td>\n",
              "      <td>Edgar Lindenau Aabye</td>\n",
              "      <td>M</td>\n",
              "      <td>34.0</td>\n",
              "      <td>NaN</td>\n",
              "      <td>NaN</td>\n",
              "      <td>Denmark/Sweden</td>\n",
              "      <td>DEN</td>\n",
              "      <td>1900 Summer</td>\n",
              "      <td>1900</td>\n",
              "      <td>Summer</td>\n",
              "      <td>Paris</td>\n",
              "      <td>Tug-Of-War</td>\n",
              "      <td>Tug-Of-War Men's Tug-Of-War</td>\n",
              "      <td>Gold</td>\n",
              "    </tr>\n",
              "    <tr>\n",
              "      <th>4</th>\n",
              "      <td>5</td>\n",
              "      <td>Christine Jacoba Aaftink</td>\n",
              "      <td>F</td>\n",
              "      <td>21.0</td>\n",
              "      <td>185.0</td>\n",
              "      <td>82.0</td>\n",
              "      <td>Netherlands</td>\n",
              "      <td>NED</td>\n",
              "      <td>1988 Winter</td>\n",
              "      <td>1988</td>\n",
              "      <td>Winter</td>\n",
              "      <td>Calgary</td>\n",
              "      <td>Speed Skating</td>\n",
              "      <td>Speed Skating Women's 500 metres</td>\n",
              "      <td>NaN</td>\n",
              "    </tr>\n",
              "  </tbody>\n",
              "</table>\n",
              "</div>"
            ],
            "text/plain": [
              "   ID                      Name Sex   Age  Height  Weight            Team  \\\n",
              "0   1                 A Dijiang   M  24.0   180.0    80.0           China   \n",
              "1   2                  A Lamusi   M  23.0   170.0    60.0           China   \n",
              "2   3       Gunnar Nielsen Aaby   M  24.0     NaN     NaN         Denmark   \n",
              "3   4      Edgar Lindenau Aabye   M  34.0     NaN     NaN  Denmark/Sweden   \n",
              "4   5  Christine Jacoba Aaftink   F  21.0   185.0    82.0     Netherlands   \n",
              "\n",
              "   NOC        Games  Year  Season       City          Sport  \\\n",
              "0  CHN  1992 Summer  1992  Summer  Barcelona     Basketball   \n",
              "1  CHN  2012 Summer  2012  Summer     London           Judo   \n",
              "2  DEN  1920 Summer  1920  Summer  Antwerpen       Football   \n",
              "3  DEN  1900 Summer  1900  Summer      Paris     Tug-Of-War   \n",
              "4  NED  1988 Winter  1988  Winter    Calgary  Speed Skating   \n",
              "\n",
              "                              Event Medal  \n",
              "0       Basketball Men's Basketball   NaN  \n",
              "1      Judo Men's Extra-Lightweight   NaN  \n",
              "2           Football Men's Football   NaN  \n",
              "3       Tug-Of-War Men's Tug-Of-War  Gold  \n",
              "4  Speed Skating Women's 500 metres   NaN  "
            ]
          },
          "execution_count": 5,
          "metadata": {},
          "output_type": "execute_result"
        }
      ],
      "source": [
        "olympics.head()"
      ]
    },
    {
      "cell_type": "markdown",
      "metadata": {
        "id": "_aZjGz28hIlP"
      },
      "source": [
        "### 4. Impute the missing data"
      ]
    },
    {
      "cell_type": "markdown",
      "metadata": {
        "id": "6Pw_IU-XhIlP"
      },
      "source": [
        "#### Use `IterativeImputer` in `sklearn` to impute based on columns `Year`, `Age`, `Height`, `Weight`"
      ]
    },
    {
      "cell_type": "markdown",
      "metadata": {
        "id": "ffBS-8UjhIlP"
      },
      "source": [
        "##### Import libraries"
      ]
    },
    {
      "cell_type": "code",
      "execution_count": null,
      "metadata": {
        "id": "Sb8jczXWhIlQ"
      },
      "outputs": [],
      "source": [
        "from sklearn.experimental import enable_iterative_imputer\n",
        "from sklearn.impute import IterativeImputer"
      ]
    },
    {
      "cell_type": "markdown",
      "metadata": {
        "id": "2Kghg97phIlQ"
      },
      "source": [
        "##### Build a list of columns that will be used for imputation, which are `Year`, `Age`, `Height`, `Weight`\n",
        "The column `Year` doesn't have mssing values, but we include it since it might be helpful modeling the other three columns. The age, height, and weight could change across years."
      ]
    },
    {
      "cell_type": "code",
      "execution_count": null,
      "metadata": {
        "id": "DogkE_ichIlQ"
      },
      "outputs": [],
      "source": [
        "cols_to_impute = ['Year', 'Age', 'Height', 'Weight']"
      ]
    },
    {
      "cell_type": "markdown",
      "metadata": {
        "id": "T2r5VejvhIlR"
      },
      "source": [
        "##### Create an `IterativeImputer` object and set its `min_value` and `max_value` parameters to be the minumum and maximum of corresponding columns"
      ]
    },
    {
      "cell_type": "code",
      "execution_count": null,
      "metadata": {
        "id": "7BNkgXOrhIlR"
      },
      "outputs": [],
      "source": [
        "iter_imp = IterativeImputer(min_value=olympics[cols_to_impute].min(), max_value=olympics[cols_to_impute].max())"
      ]
    },
    {
      "cell_type": "markdown",
      "metadata": {
        "id": "JkNpOcwnhIlR"
      },
      "source": [
        "##### Apply the imputer to fit and transform the columns to an imputed NumPy array"
      ]
    },
    {
      "cell_type": "code",
      "execution_count": null,
      "metadata": {
        "id": "NrPKaxuLhIlR"
      },
      "outputs": [],
      "source": [
        "imputed_cols = iter_imp.fit_transform(olympics[cols_to_impute])"
      ]
    },
    {
      "cell_type": "markdown",
      "metadata": {
        "id": "3TDZuWEghIlS"
      },
      "source": [
        "##### Assign the imputed array back to the original DataFrame's columns"
      ]
    },
    {
      "cell_type": "code",
      "execution_count": null,
      "metadata": {
        "id": "bvRZWr8thIlS"
      },
      "outputs": [],
      "source": [
        "olympics[cols_to_impute] = imputed_cols"
      ]
    },
    {
      "cell_type": "markdown",
      "metadata": {
        "id": "-epnxi-6hIlS"
      },
      "source": [
        "#### Fill the missing values in the column `Medal` with string of 'NA'"
      ]
    },
    {
      "cell_type": "code",
      "execution_count": null,
      "metadata": {
        "id": "59lLtWqFhIlT"
      },
      "outputs": [],
      "source": [
        "olympics['Medal'] = olympics['Medal'].fillna('NA')"
      ]
    },
    {
      "cell_type": "markdown",
      "metadata": {
        "id": "BcwU4DQvhIlT"
      },
      "source": [
        "#### Double check that the columns are all imputed"
      ]
    },
    {
      "cell_type": "code",
      "execution_count": null,
      "metadata": {
        "id": "rvc_n3iRhIlT",
        "outputId": "dc49c827-c072-4832-ca2c-9d20fc5e34c7"
      },
      "outputs": [
        {
          "data": {
            "text/plain": [
              "ID        0\n",
              "Name      0\n",
              "Sex       0\n",
              "Age       0\n",
              "Height    0\n",
              "Weight    0\n",
              "Team      0\n",
              "NOC       0\n",
              "Games     0\n",
              "Year      0\n",
              "Season    0\n",
              "City      0\n",
              "Sport     0\n",
              "Event     0\n",
              "Medal     0\n",
              "dtype: int64"
            ]
          },
          "execution_count": 12,
          "metadata": {},
          "output_type": "execute_result"
        }
      ],
      "source": [
        "olympics.isna().sum()"
      ]
    },
    {
      "cell_type": "markdown",
      "metadata": {
        "id": "vdGbT0D2hIlT"
      },
      "source": [
        "### 5. Use the `describe` method to check the numerical columns"
      ]
    },
    {
      "cell_type": "code",
      "execution_count": null,
      "metadata": {
        "id": "2l3IcLNFhIlU",
        "outputId": "91cb9b96-04d4-4f9e-ae87-6952e3f8345c"
      },
      "outputs": [
        {
          "data": {
            "text/html": [
              "<div>\n",
              "<style scoped>\n",
              "    .dataframe tbody tr th:only-of-type {\n",
              "        vertical-align: middle;\n",
              "    }\n",
              "\n",
              "    .dataframe tbody tr th {\n",
              "        vertical-align: top;\n",
              "    }\n",
              "\n",
              "    .dataframe thead th {\n",
              "        text-align: right;\n",
              "    }\n",
              "</style>\n",
              "<table border=\"1\" class=\"dataframe\">\n",
              "  <thead>\n",
              "    <tr style=\"text-align: right;\">\n",
              "      <th></th>\n",
              "      <th>ID</th>\n",
              "      <th>Age</th>\n",
              "      <th>Height</th>\n",
              "      <th>Weight</th>\n",
              "      <th>Year</th>\n",
              "    </tr>\n",
              "  </thead>\n",
              "  <tbody>\n",
              "    <tr>\n",
              "      <th>count</th>\n",
              "      <td>271116.000000</td>\n",
              "      <td>271116.000000</td>\n",
              "      <td>271116.000000</td>\n",
              "      <td>271116.000000</td>\n",
              "      <td>271116.000000</td>\n",
              "    </tr>\n",
              "    <tr>\n",
              "      <th>mean</th>\n",
              "      <td>68248.954396</td>\n",
              "      <td>25.600403</td>\n",
              "      <td>175.280009</td>\n",
              "      <td>70.952869</td>\n",
              "      <td>1978.378480</td>\n",
              "    </tr>\n",
              "    <tr>\n",
              "      <th>std</th>\n",
              "      <td>39022.286345</td>\n",
              "      <td>6.286884</td>\n",
              "      <td>9.348504</td>\n",
              "      <td>12.804718</td>\n",
              "      <td>29.877632</td>\n",
              "    </tr>\n",
              "    <tr>\n",
              "      <th>min</th>\n",
              "      <td>1.000000</td>\n",
              "      <td>10.000000</td>\n",
              "      <td>127.000000</td>\n",
              "      <td>25.000000</td>\n",
              "      <td>1896.000000</td>\n",
              "    </tr>\n",
              "    <tr>\n",
              "      <th>25%</th>\n",
              "      <td>34643.000000</td>\n",
              "      <td>22.000000</td>\n",
              "      <td>170.000000</td>\n",
              "      <td>63.000000</td>\n",
              "      <td>1960.000000</td>\n",
              "    </tr>\n",
              "    <tr>\n",
              "      <th>50%</th>\n",
              "      <td>68205.000000</td>\n",
              "      <td>25.000000</td>\n",
              "      <td>174.985438</td>\n",
              "      <td>70.064758</td>\n",
              "      <td>1988.000000</td>\n",
              "    </tr>\n",
              "    <tr>\n",
              "      <th>75%</th>\n",
              "      <td>102097.250000</td>\n",
              "      <td>28.000000</td>\n",
              "      <td>180.000000</td>\n",
              "      <td>77.000000</td>\n",
              "      <td>2002.000000</td>\n",
              "    </tr>\n",
              "    <tr>\n",
              "      <th>max</th>\n",
              "      <td>135571.000000</td>\n",
              "      <td>97.000000</td>\n",
              "      <td>226.000000</td>\n",
              "      <td>214.000000</td>\n",
              "      <td>2016.000000</td>\n",
              "    </tr>\n",
              "  </tbody>\n",
              "</table>\n",
              "</div>"
            ],
            "text/plain": [
              "                  ID            Age         Height         Weight  \\\n",
              "count  271116.000000  271116.000000  271116.000000  271116.000000   \n",
              "mean    68248.954396      25.600403     175.280009      70.952869   \n",
              "std     39022.286345       6.286884       9.348504      12.804718   \n",
              "min         1.000000      10.000000     127.000000      25.000000   \n",
              "25%     34643.000000      22.000000     170.000000      63.000000   \n",
              "50%     68205.000000      25.000000     174.985438      70.064758   \n",
              "75%    102097.250000      28.000000     180.000000      77.000000   \n",
              "max    135571.000000      97.000000     226.000000     214.000000   \n",
              "\n",
              "                Year  \n",
              "count  271116.000000  \n",
              "mean     1978.378480  \n",
              "std        29.877632  \n",
              "min      1896.000000  \n",
              "25%      1960.000000  \n",
              "50%      1988.000000  \n",
              "75%      2002.000000  \n",
              "max      2016.000000  "
            ]
          },
          "execution_count": 13,
          "metadata": {},
          "output_type": "execute_result"
        }
      ],
      "source": [
        "olympics.describe()"
      ]
    },
    {
      "cell_type": "markdown",
      "metadata": {
        "id": "r8DpQL4AhIlU"
      },
      "source": [
        "### 6. Plot the histograms of the numerical columns using `Pandas`"
      ]
    },
    {
      "cell_type": "code",
      "execution_count": null,
      "metadata": {
        "id": "F9XLw-eIhIlU",
        "outputId": "55d3955b-9b1c-4756-df7c-c214fc94ee94"
      },
      "outputs": [
        {
          "data": {
            "text/plain": [
              "array([[<AxesSubplot:title={'center':'ID'}>,\n",
              "        <AxesSubplot:title={'center':'Age'}>],\n",
              "       [<AxesSubplot:title={'center':'Height'}>,\n",
              "        <AxesSubplot:title={'center':'Weight'}>],\n",
              "       [<AxesSubplot:title={'center':'Year'}>, <AxesSubplot:>]],\n",
              "      dtype=object)"
            ]
          },
          "execution_count": 14,
          "metadata": {},
          "output_type": "execute_result"
        },
        {
          "data": {
            "image/png": "[encoded data removed]",
            "text/plain": [
              "<Figure size 1080x720 with 6 Axes>"
            ]
          },
          "metadata": {
            "needs_background": "light"
          },
          "output_type": "display_data"
        }
      ],
      "source": [
        "olympics.hist(figsize=(15, 10))"
      ]
    },
    {
      "cell_type": "markdown",
      "metadata": {
        "id": "vBs3nfN1hIlV"
      },
      "source": [
        "Notice that there could be outliers for `Age`, `Weight`, `Height`. But we'll only focus on `Age`."
      ]
    },
    {
      "cell_type": "markdown",
      "metadata": {
        "id": "5NdRlKk1hIlV"
      },
      "source": [
        "### 7. Plot the histogram with a rug plot of the column `Age` using `Seaborn`, with both 20 and 50 bins"
      ]
    },
    {
      "cell_type": "code",
      "execution_count": null,
      "metadata": {
        "id": "Qadz3_C7hIlV",
        "outputId": "24fc9dce-46e3-4d9a-e8b8-a977f3c15854"
      },
      "outputs": [
        {
          "data": {
            "text/plain": [
              "<seaborn.axisgrid.FacetGrid at 0x2ede8175640>"
            ]
          },
          "execution_count": 15,
          "metadata": {},
          "output_type": "execute_result"
        },
        {
          "data": {
            "image/png": "[encoded data removed]",
            "text/plain": [
              "<Figure size 360x360 with 1 Axes>"
            ]
          },
          "metadata": {
            "needs_background": "light"
          },
          "output_type": "display_data"
        }
      ],
      "source": [
        "sns.displot(data=olympics, x='Age', bins=20, rug=True)"
      ]
    },
    {
      "cell_type": "code",
      "execution_count": null,
      "metadata": {
        "id": "IUXNHErGhIlV",
        "outputId": "79c18f66-1604-4ed9-bf87-827ddef3e941"
      },
      "outputs": [
        {
          "data": {
            "text/plain": [
              "<seaborn.axisgrid.FacetGrid at 0x2ede818a820>"
            ]
          },
          "execution_count": 16,
          "metadata": {},
          "output_type": "execute_result"
        },
        {
          "data": {
            "image/png": "[encoded data removed]",
            "text/plain": [
              "<Figure size 360x360 with 1 Axes>"
            ]
          },
          "metadata": {
            "needs_background": "light"
          },
          "output_type": "display_data"
        }
      ],
      "source": [
        "sns.displot(data=olympics, x='Age', bins=50, rug=True)"
      ]
    },
    {
      "cell_type": "markdown",
      "metadata": {
        "id": "wtmC1yuGhIlW"
      },
      "source": [
        "Notice the slight changes of distributions of `Age` when the number of bins changes."
      ]
    },
    {
      "cell_type": "markdown",
      "metadata": {
        "id": "jShwFk0AhIlW"
      },
      "source": [
        "### 8. Plot the boxplot of the column `Age` using `Pandas`"
      ]
    },
    {
      "cell_type": "code",
      "execution_count": null,
      "metadata": {
        "id": "vWt9wZElhIlW",
        "outputId": "565ebb4d-36a4-4988-9096-5a05fd3ee0dc"
      },
      "outputs": [
        {
          "data": {
            "text/plain": [
              "<AxesSubplot:>"
            ]
          },
          "execution_count": 17,
          "metadata": {},
          "output_type": "execute_result"
        },
        {
          "data": {
            "image/png": "[encoded data removed]",
            "text/plain": [
              "<Figure size 432x288 with 1 Axes>"
            ]
          },
          "metadata": {
            "needs_background": "light"
          },
          "output_type": "display_data"
        }
      ],
      "source": [
        "olympics['Age'].plot(kind='box')"
      ]
    },
    {
      "cell_type": "markdown",
      "metadata": {
        "id": "OuOE1Jt7hIlW"
      },
      "source": [
        "### 9. Plot the boxplot of the column `Age` using `Seaborn`"
      ]
    },
    {
      "cell_type": "code",
      "execution_count": null,
      "metadata": {
        "id": "C7s_vQKrhIll",
        "outputId": "3cf30771-ecf6-4bdd-c4ef-1aa00d8a2be1"
      },
      "outputs": [
        {
          "data": {
            "text/plain": [
              "<seaborn.axisgrid.FacetGrid at 0x2ed853006d0>"
            ]
          },
          "execution_count": 18,
          "metadata": {},
          "output_type": "execute_result"
        },
        {
          "data": {
            "image/png": "[encoded data removed]",
            "text/plain": [
              "<Figure size 360x360 with 1 Axes>"
            ]
          },
          "metadata": {
            "needs_background": "light"
          },
          "output_type": "display_data"
        }
      ],
      "source": [
        "sns.catplot(data=olympics, y='Age', kind='box')"
      ]
    },
    {
      "cell_type": "markdown",
      "metadata": {
        "id": "IRcBiHaHhIlm"
      },
      "source": [
        "### 10. Calculate the first quartile, third quartile, and IQR of the column `Age`"
      ]
    },
    {
      "cell_type": "code",
      "execution_count": null,
      "metadata": {
        "id": "mTyed166hIlm"
      },
      "outputs": [],
      "source": [
        "Q1 = olympics['Age'].quantile(0.25)\n",
        "Q3 = olympics['Age'].quantile(0.75)\n",
        "IQR = Q3 - Q1"
      ]
    },
    {
      "cell_type": "code",
      "execution_count": null,
      "metadata": {
        "id": "z5PDAryJhIln",
        "outputId": "f80da8d0-dd16-434a-e3fd-591ae958b218"
      },
      "outputs": [
        {
          "name": "stdout",
          "output_type": "stream",
          "text": [
            "22.0\n",
            "28.0\n",
            "6.0\n"
          ]
        }
      ],
      "source": [
        "print(Q1)\n",
        "print(Q3)\n",
        "print(IQR)"
      ]
    },
    {
      "cell_type": "markdown",
      "metadata": {
        "id": "k67lX9HXhIln"
      },
      "source": [
        "### 11. Print out the lower and upper thresholds for outliers based on IQR for the column `Age`"
      ]
    },
    {
      "cell_type": "code",
      "execution_count": null,
      "metadata": {
        "id": "x0vu_Cf3hIln",
        "outputId": "6855247a-5b27-4ff1-e6ea-b3f1a22a102d"
      },
      "outputs": [
        {
          "name": "stdout",
          "output_type": "stream",
          "text": [
            "Low age outlier threshold: 13.0\n",
            "High age outlier threshold: 37.0\n"
          ]
        }
      ],
      "source": [
        "print(f'Low age outlier threshold: {Q1 - 1.5*IQR}')\n",
        "print(f'High age outlier threshold: {Q3 + 1.5*IQR}')"
      ]
    },
    {
      "cell_type": "markdown",
      "metadata": {
        "id": "9lJ_IsbthIlo"
      },
      "source": [
        "### 12. What are the `Sport` for the athletes of really young age"
      ]
    },
    {
      "cell_type": "markdown",
      "metadata": {
        "id": "L8IGWHEEhIlo"
      },
      "source": [
        "#### Filter for the column `Sport` when the column `Age` has outliers of lower values"
      ]
    },
    {
      "cell_type": "code",
      "execution_count": null,
      "metadata": {
        "id": "m1pBWZDthIlo",
        "outputId": "21321a1c-e21b-4267-a848-95a49b624300"
      },
      "outputs": [
        {
          "data": {
            "text/plain": [
              "9648            Swimming\n",
              "9649            Swimming\n",
              "9650            Swimming\n",
              "43468     Figure Skating\n",
              "46955             Rowing\n",
              "50291           Swimming\n",
              "50292           Swimming\n",
              "50293           Swimming\n",
              "50294           Swimming\n",
              "60911     Figure Skating\n",
              "73461             Rowing\n",
              "79024         Gymnastics\n",
              "79352     Figure Skating\n",
              "84361             Rowing\n",
              "85840           Swimming\n",
              "91910           Swimming\n",
              "91911           Swimming\n",
              "91912           Swimming\n",
              "91913           Swimming\n",
              "93850           Swimming\n",
              "94058     Figure Skating\n",
              "96236           Swimming\n",
              "96665     Figure Skating\n",
              "97086     Figure Skating\n",
              "101378    Figure Skating\n",
              "102916    Figure Skating\n",
              "108031    Figure Skating\n",
              "118048    Figure Skating\n",
              "120233          Swimming\n",
              "120234          Swimming\n",
              "126542    Figure Skating\n",
              "140650    Figure Skating\n",
              "142882        Gymnastics\n",
              "145150        Gymnastics\n",
              "148942        Gymnastics\n",
              "149033          Swimming\n",
              "152798    Figure Skating\n",
              "168941         Athletics\n",
              "168942         Athletics\n",
              "192507            Diving\n",
              "197894          Swimming\n",
              "197895          Swimming\n",
              "226019          Swimming\n",
              "236977          Swimming\n",
              "237141    Figure Skating\n",
              "249803            Rowing\n",
              "249804            Rowing\n",
              "251495        Gymnastics\n",
              "252230          Swimming\n",
              "252231          Swimming\n",
              "252232          Swimming\n",
              "252233          Swimming\n",
              "253662    Figure Skating\n",
              "Name: Sport, dtype: object"
            ]
          },
          "execution_count": 22,
          "metadata": {},
          "output_type": "execute_result"
        }
      ],
      "source": [
        "msk_lower = (olympics['Age'] < (Q1 - 1.5*IQR))\n",
        "olympics.loc[msk_lower,'Sport']"
      ]
    },
    {
      "cell_type": "markdown",
      "metadata": {
        "id": "0F0n9wpQhIlo"
      },
      "source": [
        "#### Look at the unique values of `Sport` and their counts when `Age` are low-valued outliers\n",
        "\n",
        "Did you find any sports popular for really young athletes?"
      ]
    },
    {
      "cell_type": "code",
      "execution_count": null,
      "metadata": {
        "id": "Y_K9ya0HhIlp",
        "outputId": "29c24995-40e3-456d-a6ea-809f58bbb065"
      },
      "outputs": [
        {
          "data": {
            "text/plain": [
              "Swimming          25\n",
              "Figure Skating    15\n",
              "Rowing             5\n",
              "Gymnastics         5\n",
              "Athletics          2\n",
              "Diving             1\n",
              "Name: Sport, dtype: int64"
            ]
          },
          "execution_count": 23,
          "metadata": {},
          "output_type": "execute_result"
        }
      ],
      "source": [
        "olympics.loc[msk_lower,'Sport'].value_counts()"
      ]
    },
    {
      "cell_type": "markdown",
      "metadata": {
        "id": "aH63qJRChIlp"
      },
      "source": [
        "There are specific sports with really young age athletes, e.g., Swimming, Figure Skating."
      ]
    },
    {
      "cell_type": "markdown",
      "metadata": {
        "id": "aMWlfyHthIlp"
      },
      "source": [
        "### 13. What are the `Sport` for the athletes of older age"
      ]
    },
    {
      "cell_type": "markdown",
      "metadata": {
        "id": "mBGMkwQphIlp"
      },
      "source": [
        "#### Filter for the column `Sport` when the column `Age` has outliers of higher values"
      ]
    },
    {
      "cell_type": "code",
      "execution_count": null,
      "metadata": {
        "id": "aQMJM51shIlq",
        "outputId": "47686c85-88a1-4f03-9695-cd5d27554da2"
      },
      "outputs": [
        {
          "data": {
            "text/plain": [
              "58        Art Competitions\n",
              "89                 Sailing\n",
              "90                 Sailing\n",
              "124               Shooting\n",
              "126               Shooting\n",
              "                ...       \n",
              "270955    Art Competitions\n",
              "270970           Athletics\n",
              "270971           Athletics\n",
              "270972           Athletics\n",
              "271090             Sailing\n",
              "Name: Sport, Length: 11928, dtype: object"
            ]
          },
          "execution_count": 24,
          "metadata": {},
          "output_type": "execute_result"
        }
      ],
      "source": [
        "msk_upper = (olympics['Age'] > (Q3 + 1.5*IQR))\n",
        "olympics.loc[msk_upper,'Sport']"
      ]
    },
    {
      "cell_type": "markdown",
      "metadata": {
        "id": "gXQut1oOhIlq"
      },
      "source": [
        "#### Look at the unique values of `Sport` and their counts when `Age` are high-valued outliers\n",
        "Did you find any sports popular for older age athletes?"
      ]
    },
    {
      "cell_type": "code",
      "execution_count": null,
      "metadata": {
        "id": "DO4wOFubhIlq",
        "outputId": "f096f463-6d62-4d20-dbe1-2869aa1b9563"
      },
      "outputs": [
        {
          "data": {
            "text/plain": [
              "Shooting                 3178\n",
              "Art Competitions         2226\n",
              "Equestrianism            1997\n",
              "Sailing                  1040\n",
              "Fencing                  1031\n",
              "Athletics                 408\n",
              "Archery                   311\n",
              "Bobsleigh                 230\n",
              "Gymnastics                167\n",
              "Rowing                    122\n",
              "Cycling                    99\n",
              "Curling                    98\n",
              "Table Tennis               83\n",
              "Cross Country Skiing       81\n",
              "Biathlon                   78\n",
              "Canoeing                   71\n",
              "Tennis                     70\n",
              "Ice Hockey                 51\n",
              "Wrestling                  46\n",
              "Golf                       42\n",
              "Weightlifting              42\n",
              "Speed Skating              36\n",
              "Polo                       33\n",
              "Figure Skating             30\n",
              "Handball                   29\n",
              "Water Polo                 29\n",
              "Hockey                     29\n",
              "Luge                       26\n",
              "Alpine Skiing              25\n",
              "Skeleton                   23\n",
              "Beach Volleyball           16\n",
              "Tug-Of-War                 15\n",
              "Volleyball                 15\n",
              "Judo                       14\n",
              "Modern Pentathlon          13\n",
              "Swimming                   13\n",
              "Baseball                   11\n",
              "Football                    9\n",
              "Freestyle Skiing            8\n",
              "Softball                    8\n",
              "Diving                      8\n",
              "Alpinism                    8\n",
              "Ski Jumping                 8\n",
              "Basketball                  7\n",
              "Croquet                     6\n",
              "Badminton                   6\n",
              "Triathlon                   5\n",
              "Jeu De Paume                4\n",
              "Snowboarding                4\n",
              "Motorboating                4\n",
              "Boxing                      3\n",
              "Roque                       2\n",
              "Racquets                    2\n",
              "Synchronized Swimming       2\n",
              "Trampolining                2\n",
              "Cricket                     2\n",
              "Nordic Combined             1\n",
              "Rugby                       1\n",
              "Name: Sport, dtype: int64"
            ]
          },
          "execution_count": 25,
          "metadata": {},
          "output_type": "execute_result"
        }
      ],
      "source": [
        "olympics.loc[msk_upper,'Sport'].value_counts()"
      ]
    },
    {
      "cell_type": "markdown",
      "metadata": {
        "id": "yDcdFYjnhIlq"
      },
      "source": [
        "There are specific sports popular for higher-aged athletes. They tend to need more skills rather than movements."
      ]
    },
    {
      "cell_type": "markdown",
      "metadata": {
        "id": "7Z_SiMHqhIlr"
      },
      "source": [
        "### 14. Check for the number of unique values in each column"
      ]
    },
    {
      "cell_type": "code",
      "execution_count": null,
      "metadata": {
        "id": "_NUqo-bnhIlr",
        "outputId": "890a7827-0362-4b11-a61e-ac1b64d2893a"
      },
      "outputs": [
        {
          "data": {
            "text/plain": [
              "ID        135571\n",
              "Name      134732\n",
              "Sex            2\n",
              "Age          785\n",
              "Height      2475\n",
              "Weight      3565\n",
              "Team        1184\n",
              "NOC          230\n",
              "Games         51\n",
              "Year          35\n",
              "Season         2\n",
              "City          42\n",
              "Sport         66\n",
              "Event        765\n",
              "Medal          4\n",
              "dtype: int64"
            ]
          },
          "execution_count": 26,
          "metadata": {},
          "output_type": "execute_result"
        }
      ],
      "source": [
        "olympics.nunique()"
      ]
    },
    {
      "cell_type": "markdown",
      "metadata": {
        "id": "UXIKq_uthIlr"
      },
      "source": [
        "Olympics is a large event! There are many `Name`, `Team`, `NOC`, `Games`, `Year`, `City`, `Sport`, and `Event`!"
      ]
    },
    {
      "cell_type": "markdown",
      "metadata": {
        "id": "lKSO3G1XhIlr"
      },
      "source": [
        "### 15. Use the `describe` method to check the non-numerical columns"
      ]
    },
    {
      "cell_type": "code",
      "execution_count": null,
      "metadata": {
        "id": "fE5-gGqohIls",
        "outputId": "2dde05ab-1e46-49a7-e98b-ab9cedf14804"
      },
      "outputs": [
        {
          "data": {
            "text/html": [
              "<div>\n",
              "<style scoped>\n",
              "    .dataframe tbody tr th:only-of-type {\n",
              "        vertical-align: middle;\n",
              "    }\n",
              "\n",
              "    .dataframe tbody tr th {\n",
              "        vertical-align: top;\n",
              "    }\n",
              "\n",
              "    .dataframe thead th {\n",
              "        text-align: right;\n",
              "    }\n",
              "</style>\n",
              "<table border=\"1\" class=\"dataframe\">\n",
              "  <thead>\n",
              "    <tr style=\"text-align: right;\">\n",
              "      <th></th>\n",
              "      <th>Name</th>\n",
              "      <th>Sex</th>\n",
              "      <th>Team</th>\n",
              "      <th>NOC</th>\n",
              "      <th>Games</th>\n",
              "      <th>Season</th>\n",
              "      <th>City</th>\n",
              "      <th>Sport</th>\n",
              "      <th>Event</th>\n",
              "      <th>Medal</th>\n",
              "    </tr>\n",
              "  </thead>\n",
              "  <tbody>\n",
              "    <tr>\n",
              "      <th>count</th>\n",
              "      <td>271116</td>\n",
              "      <td>271116</td>\n",
              "      <td>271116</td>\n",
              "      <td>271116</td>\n",
              "      <td>271116</td>\n",
              "      <td>271116</td>\n",
              "      <td>271116</td>\n",
              "      <td>271116</td>\n",
              "      <td>271116</td>\n",
              "      <td>271116</td>\n",
              "    </tr>\n",
              "    <tr>\n",
              "      <th>unique</th>\n",
              "      <td>134732</td>\n",
              "      <td>2</td>\n",
              "      <td>1184</td>\n",
              "      <td>230</td>\n",
              "      <td>51</td>\n",
              "      <td>2</td>\n",
              "      <td>42</td>\n",
              "      <td>66</td>\n",
              "      <td>765</td>\n",
              "      <td>4</td>\n",
              "    </tr>\n",
              "    <tr>\n",
              "      <th>top</th>\n",
              "      <td>Robert Tait McKenzie</td>\n",
              "      <td>M</td>\n",
              "      <td>United States</td>\n",
              "      <td>USA</td>\n",
              "      <td>2000 Summer</td>\n",
              "      <td>Summer</td>\n",
              "      <td>London</td>\n",
              "      <td>Athletics</td>\n",
              "      <td>Football Men's Football</td>\n",
              "      <td>NA</td>\n",
              "    </tr>\n",
              "    <tr>\n",
              "      <th>freq</th>\n",
              "      <td>58</td>\n",
              "      <td>196594</td>\n",
              "      <td>17847</td>\n",
              "      <td>18853</td>\n",
              "      <td>13821</td>\n",
              "      <td>222552</td>\n",
              "      <td>22426</td>\n",
              "      <td>38624</td>\n",
              "      <td>5733</td>\n",
              "      <td>231333</td>\n",
              "    </tr>\n",
              "  </tbody>\n",
              "</table>\n",
              "</div>"
            ],
            "text/plain": [
              "                        Name     Sex           Team     NOC        Games  \\\n",
              "count                 271116  271116         271116  271116       271116   \n",
              "unique                134732       2           1184     230           51   \n",
              "top     Robert Tait McKenzie       M  United States     USA  2000 Summer   \n",
              "freq                      58  196594          17847   18853        13821   \n",
              "\n",
              "        Season    City      Sport                    Event   Medal  \n",
              "count   271116  271116     271116                   271116  271116  \n",
              "unique       2      42         66                      765       4  \n",
              "top     Summer  London  Athletics  Football Men's Football      NA  \n",
              "freq    222552   22426      38624                     5733  231333  "
            ]
          },
          "execution_count": 27,
          "metadata": {},
          "output_type": "execute_result"
        }
      ],
      "source": [
        "olympics.describe(exclude='number')"
      ]
    },
    {
      "cell_type": "markdown",
      "metadata": {
        "id": "dEkKVCpJhIls"
      },
      "source": [
        "### 16. Apply the `value_counts` method for each non-numerical column, check for their unique values and counts"
      ]
    },
    {
      "cell_type": "code",
      "execution_count": null,
      "metadata": {
        "id": "nkB8xKflhIls",
        "outputId": "a98a8a4e-b2ef-409a-e7c4-4c41e90901af"
      },
      "outputs": [
        {
          "data": {
            "text/plain": [
              "Index(['Name', 'Sex', 'Team', 'NOC', 'Games', 'Season', 'City', 'Sport',\n",
              "       'Event', 'Medal'],\n",
              "      dtype='object')"
            ]
          },
          "execution_count": 28,
          "metadata": {},
          "output_type": "execute_result"
        }
      ],
      "source": [
        "cat_cols = olympics.select_dtypes(exclude='number').columns\n",
        "cat_cols"
      ]
    },
    {
      "cell_type": "code",
      "execution_count": null,
      "metadata": {
        "id": "OE7ufQX5hIlt",
        "outputId": "ca0057ed-15db-40a7-fbfd-13b00632990e"
      },
      "outputs": [
        {
          "name": "stdout",
          "output_type": "stream",
          "text": [
            "Robert Tait McKenzie            58\n",
            "Heikki Ilmari Savolainen        39\n",
            "Joseph \"Josy\" Stoffel           38\n",
            "Ioannis Theofilakis             36\n",
            "Takashi Ono                     33\n",
            "                                ..\n",
            "Tatyana Vasilyevna Kalmykova     1\n",
            "Mariya Lvovna Kalmykova          1\n",
            "Christine Kalmer                 1\n",
            "Joannis \"Jannis\" Kalmazidis      1\n",
            "Pierre-Georges LeClercq          1\n",
            "Name: Name, Length: 134732, dtype: int64\n",
            "\n",
            "M    196594\n",
            "F     74522\n",
            "Name: Sex, dtype: int64\n",
            "\n",
            "United States    17847\n",
            "France           11988\n",
            "Great Britain    11404\n",
            "Italy            10260\n",
            "Germany           9326\n",
            "                 ...  \n",
            "Briar                1\n",
            "Hannover             1\n",
            "Nan-2                1\n",
            "Brentina             1\n",
            "Digby                1\n",
            "Name: Team, Length: 1184, dtype: int64\n",
            "\n",
            "USA    18853\n",
            "FRA    12758\n",
            "GBR    12256\n",
            "ITA    10715\n",
            "GER     9830\n",
            "       ...  \n",
            "YMD        5\n",
            "SSD        3\n",
            "UNK        2\n",
            "NBO        2\n",
            "NFL        1\n",
            "Name: NOC, Length: 230, dtype: int64\n",
            "\n",
            "2000 Summer    13821\n",
            "1996 Summer    13780\n",
            "2016 Summer    13688\n",
            "2008 Summer    13602\n",
            "2004 Summer    13443\n",
            "1992 Summer    12977\n",
            "2012 Summer    12920\n",
            "1988 Summer    12037\n",
            "1972 Summer    10304\n",
            "1984 Summer     9454\n",
            "1976 Summer     8641\n",
            "1968 Summer     8588\n",
            "1952 Summer     8270\n",
            "1960 Summer     8119\n",
            "1964 Summer     7702\n",
            "1980 Summer     7191\n",
            "1936 Summer     6506\n",
            "1948 Summer     6405\n",
            "1924 Summer     5233\n",
            "1956 Summer     5127\n",
            "1928 Summer     4992\n",
            "2014 Winter     4891\n",
            "2010 Winter     4402\n",
            "2006 Winter     4382\n",
            "1920 Summer     4292\n",
            "2002 Winter     4109\n",
            "1912 Summer     4040\n",
            "1998 Winter     3605\n",
            "1992 Winter     3436\n",
            "1994 Winter     3160\n",
            "1908 Summer     3101\n",
            "1932 Summer     2969\n",
            "1988 Winter     2639\n",
            "1984 Winter     2134\n",
            "1900 Summer     1936\n",
            "1968 Winter     1891\n",
            "1976 Winter     1861\n",
            "1964 Winter     1778\n",
            "1980 Winter     1746\n",
            "1906 Summer     1733\n",
            "1972 Winter     1655\n",
            "1956 Winter     1307\n",
            "1904 Summer     1301\n",
            "1960 Winter     1116\n",
            "1952 Winter     1088\n",
            "1948 Winter     1075\n",
            "1936 Winter      895\n",
            "1928 Winter      582\n",
            "1924 Winter      460\n",
            "1896 Summer      380\n",
            "1932 Winter      352\n",
            "Name: Games, dtype: int64\n",
            "\n",
            "Summer    222552\n",
            "Winter     48564\n",
            "Name: Season, dtype: int64\n",
            "\n",
            "London                    22426\n",
            "Athina                    15556\n",
            "Sydney                    13821\n",
            "Atlanta                   13780\n",
            "Rio de Janeiro            13688\n",
            "Beijing                   13602\n",
            "Barcelona                 12977\n",
            "Los Angeles               12423\n",
            "Seoul                     12037\n",
            "Munich                    10304\n",
            "Montreal                   8641\n",
            "Mexico City                8588\n",
            "Helsinki                   8270\n",
            "Roma                       8119\n",
            "Tokyo                      7702\n",
            "Moskva                     7191\n",
            "Paris                      7169\n",
            "Berlin                     6506\n",
            "Amsterdam                  4992\n",
            "Sochi                      4891\n",
            "Melbourne                  4829\n",
            "Vancouver                  4402\n",
            "Torino                     4382\n",
            "Stockholm                  4338\n",
            "Antwerpen                  4292\n",
            "Salt Lake City             4109\n",
            "Innsbruck                  3639\n",
            "Nagano                     3605\n",
            "Albertville                3436\n",
            "Lillehammer                3160\n",
            "Calgary                    2639\n",
            "Sarajevo                   2134\n",
            "Lake Placid                2098\n",
            "Grenoble                   1891\n",
            "Sankt Moritz               1657\n",
            "Sapporo                    1655\n",
            "Cortina d'Ampezzo          1307\n",
            "St. Louis                  1301\n",
            "Squaw Valley               1116\n",
            "Oslo                       1088\n",
            "Garmisch-Partenkirchen      895\n",
            "Chamonix                    460\n",
            "Name: City, dtype: int64\n",
            "\n",
            "Athletics        38624\n",
            "Gymnastics       26707\n",
            "Swimming         23195\n",
            "Shooting         11448\n",
            "Cycling          10859\n",
            "                 ...  \n",
            "Racquets            12\n",
            "Jeu De Paume        11\n",
            "Roque                4\n",
            "Basque Pelota        2\n",
            "Aeronautics          1\n",
            "Name: Sport, Length: 66, dtype: int64\n",
            "\n",
            "Football Men's Football                                5733\n",
            "Ice Hockey Men's Ice Hockey                            4762\n",
            "Hockey Men's Hockey                                    3958\n",
            "Water Polo Men's Water Polo                            3358\n",
            "Basketball Men's Basketball                            3280\n",
            "                                                       ... \n",
            "Croquet Mixed Doubles                                     2\n",
            "Archery Men's Target Archery, 50 metres, Individual       2\n",
            "Archery Men's Target Archery, 33 metres, Individual       2\n",
            "Archery Men's Target Archery, 28 metres, Individual       2\n",
            "Aeronautics Mixed Aeronautics                             1\n",
            "Name: Event, Length: 765, dtype: int64\n",
            "\n",
            "NA        231333\n",
            "Gold       13372\n",
            "Bronze     13295\n",
            "Silver     13116\n",
            "Name: Medal, dtype: int64\n",
            "\n"
          ]
        }
      ],
      "source": [
        "for col in cat_cols:\n",
        "    print(olympics[col].value_counts())\n",
        "    print()"
      ]
    },
    {
      "cell_type": "markdown",
      "metadata": {
        "id": "wxWmVnmPhIlt"
      },
      "source": [
        "### 17. Check the first record within the dataset for each Olympic `Sport`\n",
        "\n",
        "*Hint: sort the DataFrame by `Year`, then groupby by `Sport`*"
      ]
    },
    {
      "cell_type": "code",
      "execution_count": null,
      "metadata": {
        "id": "k4_Z0YN8hIlt",
        "outputId": "3472b216-d83d-4982-e662-ee32d007bf67"
      },
      "outputs": [
        {
          "data": {
            "text/html": [
              "<div>\n",
              "<style scoped>\n",
              "    .dataframe tbody tr th:only-of-type {\n",
              "        vertical-align: middle;\n",
              "    }\n",
              "\n",
              "    .dataframe tbody tr th {\n",
              "        vertical-align: top;\n",
              "    }\n",
              "\n",
              "    .dataframe thead th {\n",
              "        text-align: right;\n",
              "    }\n",
              "</style>\n",
              "<table border=\"1\" class=\"dataframe\">\n",
              "  <thead>\n",
              "    <tr style=\"text-align: right;\">\n",
              "      <th></th>\n",
              "      <th>ID</th>\n",
              "      <th>Name</th>\n",
              "      <th>Sex</th>\n",
              "      <th>Age</th>\n",
              "      <th>Height</th>\n",
              "      <th>Weight</th>\n",
              "      <th>Team</th>\n",
              "      <th>NOC</th>\n",
              "      <th>Games</th>\n",
              "      <th>Year</th>\n",
              "      <th>Season</th>\n",
              "      <th>City</th>\n",
              "      <th>Event</th>\n",
              "      <th>Medal</th>\n",
              "    </tr>\n",
              "    <tr>\n",
              "      <th>Sport</th>\n",
              "      <th></th>\n",
              "      <th></th>\n",
              "      <th></th>\n",
              "      <th></th>\n",
              "      <th></th>\n",
              "      <th></th>\n",
              "      <th></th>\n",
              "      <th></th>\n",
              "      <th></th>\n",
              "      <th></th>\n",
              "      <th></th>\n",
              "      <th></th>\n",
              "      <th></th>\n",
              "      <th></th>\n",
              "    </tr>\n",
              "  </thead>\n",
              "  <tbody>\n",
              "    <tr>\n",
              "      <th>Aeronautics</th>\n",
              "      <td>107506</td>\n",
              "      <td>Hermann Schreiber</td>\n",
              "      <td>M</td>\n",
              "      <td>26.000000</td>\n",
              "      <td>174.589865</td>\n",
              "      <td>71.098729</td>\n",
              "      <td>Switzerland</td>\n",
              "      <td>SUI</td>\n",
              "      <td>1936 Summer</td>\n",
              "      <td>1936.0</td>\n",
              "      <td>Summer</td>\n",
              "      <td>Berlin</td>\n",
              "      <td>Aeronautics Mixed Aeronautics</td>\n",
              "      <td>Gold</td>\n",
              "    </tr>\n",
              "    <tr>\n",
              "      <th>Alpine Skiing</th>\n",
              "      <td>32818</td>\n",
              "      <td>Reat Erce</td>\n",
              "      <td>M</td>\n",
              "      <td>17.000000</td>\n",
              "      <td>172.439922</td>\n",
              "      <td>66.363886</td>\n",
              "      <td>Turkey</td>\n",
              "      <td>TUR</td>\n",
              "      <td>1936 Winter</td>\n",
              "      <td>1936.0</td>\n",
              "      <td>Winter</td>\n",
              "      <td>Garmisch-Partenkirchen</td>\n",
              "      <td>Alpine Skiing Men's Combined</td>\n",
              "      <td>NA</td>\n",
              "    </tr>\n",
              "    <tr>\n",
              "      <th>Alpinism</th>\n",
              "      <td>74134</td>\n",
              "      <td>George Herbert Leigh Mallory</td>\n",
              "      <td>M</td>\n",
              "      <td>37.000000</td>\n",
              "      <td>176.995129</td>\n",
              "      <td>76.867544</td>\n",
              "      <td>Great Britain</td>\n",
              "      <td>GBR</td>\n",
              "      <td>1924 Winter</td>\n",
              "      <td>1924.0</td>\n",
              "      <td>Winter</td>\n",
              "      <td>Chamonix</td>\n",
              "      <td>Alpinism Mixed Alpinism</td>\n",
              "      <td>Gold</td>\n",
              "    </tr>\n",
              "    <tr>\n",
              "      <th>Archery</th>\n",
              "      <td>67722</td>\n",
              "      <td>Lecomte</td>\n",
              "      <td>M</td>\n",
              "      <td>27.618563</td>\n",
              "      <td>174.310796</td>\n",
              "      <td>71.897322</td>\n",
              "      <td>France</td>\n",
              "      <td>FRA</td>\n",
              "      <td>1900 Summer</td>\n",
              "      <td>1900.0</td>\n",
              "      <td>Summer</td>\n",
              "      <td>Paris</td>\n",
              "      <td>Archery Men's Au Cordon Dore, 50 metres</td>\n",
              "      <td>NA</td>\n",
              "    </tr>\n",
              "    <tr>\n",
              "      <th>Art Competitions</th>\n",
              "      <td>48741</td>\n",
              "      <td>Konrad Hippenmeier</td>\n",
              "      <td>M</td>\n",
              "      <td>31.000000</td>\n",
              "      <td>175.339389</td>\n",
              "      <td>73.692765</td>\n",
              "      <td>Switzerland</td>\n",
              "      <td>SUI</td>\n",
              "      <td>1912 Summer</td>\n",
              "      <td>1912.0</td>\n",
              "      <td>Summer</td>\n",
              "      <td>Stockholm</td>\n",
              "      <td>Art Competitions Mixed Architecture</td>\n",
              "      <td>NA</td>\n",
              "    </tr>\n",
              "    <tr>\n",
              "      <th>...</th>\n",
              "      <td>...</td>\n",
              "      <td>...</td>\n",
              "      <td>...</td>\n",
              "      <td>...</td>\n",
              "      <td>...</td>\n",
              "      <td>...</td>\n",
              "      <td>...</td>\n",
              "      <td>...</td>\n",
              "      <td>...</td>\n",
              "      <td>...</td>\n",
              "      <td>...</td>\n",
              "      <td>...</td>\n",
              "      <td>...</td>\n",
              "      <td>...</td>\n",
              "    </tr>\n",
              "    <tr>\n",
              "      <th>Tug-Of-War</th>\n",
              "      <td>86368</td>\n",
              "      <td>August Nilsson</td>\n",
              "      <td>M</td>\n",
              "      <td>27.000000</td>\n",
              "      <td>174.161415</td>\n",
              "      <td>71.570173</td>\n",
              "      <td>Denmark/Sweden</td>\n",
              "      <td>SWE</td>\n",
              "      <td>1900 Summer</td>\n",
              "      <td>1900.0</td>\n",
              "      <td>Summer</td>\n",
              "      <td>Paris</td>\n",
              "      <td>Tug-Of-War Men's Tug-Of-War</td>\n",
              "      <td>Gold</td>\n",
              "    </tr>\n",
              "    <tr>\n",
              "      <th>Volleyball</th>\n",
              "      <td>14306</td>\n",
              "      <td>Georgi Spasov Boyadzhiev</td>\n",
              "      <td>M</td>\n",
              "      <td>21.000000</td>\n",
              "      <td>177.000000</td>\n",
              "      <td>76.000000</td>\n",
              "      <td>Bulgaria</td>\n",
              "      <td>BUL</td>\n",
              "      <td>1964 Summer</td>\n",
              "      <td>1964.0</td>\n",
              "      <td>Summer</td>\n",
              "      <td>Tokyo</td>\n",
              "      <td>Volleyball Men's Volleyball</td>\n",
              "      <td>NA</td>\n",
              "    </tr>\n",
              "    <tr>\n",
              "      <th>Water Polo</th>\n",
              "      <td>74733</td>\n",
              "      <td>Auguste Jean Baptiste Louis Joseph Marc</td>\n",
              "      <td>M</td>\n",
              "      <td>19.000000</td>\n",
              "      <td>172.250355</td>\n",
              "      <td>67.361423</td>\n",
              "      <td>Pupilles de Neptune de Lille #2-1</td>\n",
              "      <td>FRA</td>\n",
              "      <td>1900 Summer</td>\n",
              "      <td>1900.0</td>\n",
              "      <td>Summer</td>\n",
              "      <td>Paris</td>\n",
              "      <td>Water Polo Men's Water Polo</td>\n",
              "      <td>Bronze</td>\n",
              "    </tr>\n",
              "    <tr>\n",
              "      <th>Weightlifting</th>\n",
              "      <td>54456</td>\n",
              "      <td>Alexander Viggo Jensen</td>\n",
              "      <td>M</td>\n",
              "      <td>21.000000</td>\n",
              "      <td>172.653972</td>\n",
              "      <td>68.407539</td>\n",
              "      <td>Denmark</td>\n",
              "      <td>DEN</td>\n",
              "      <td>1896 Summer</td>\n",
              "      <td>1896.0</td>\n",
              "      <td>Summer</td>\n",
              "      <td>Athina</td>\n",
              "      <td>Weightlifting Men's Unlimited, One Hand</td>\n",
              "      <td>Silver</td>\n",
              "    </tr>\n",
              "    <tr>\n",
              "      <th>Wrestling</th>\n",
              "      <td>122329</td>\n",
              "      <td>Georgios Tsitas</td>\n",
              "      <td>M</td>\n",
              "      <td>27.721559</td>\n",
              "      <td>174.261331</td>\n",
              "      <td>71.945520</td>\n",
              "      <td>Greece</td>\n",
              "      <td>GRE</td>\n",
              "      <td>1896 Summer</td>\n",
              "      <td>1896.0</td>\n",
              "      <td>Summer</td>\n",
              "      <td>Athina</td>\n",
              "      <td>Wrestling Men's Unlimited Class, Greco-Roman</td>\n",
              "      <td>Silver</td>\n",
              "    </tr>\n",
              "  </tbody>\n",
              "</table>\n",
              "<p>66 rows × 14 columns</p>\n",
              "</div>"
            ],
            "text/plain": [
              "                      ID                                     Name Sex  \\\n",
              "Sport                                                                   \n",
              "Aeronautics       107506                        Hermann Schreiber   M   \n",
              "Alpine Skiing      32818                                Reat Erce   M   \n",
              "Alpinism           74134             George Herbert Leigh Mallory   M   \n",
              "Archery            67722                                  Lecomte   M   \n",
              "Art Competitions   48741                       Konrad Hippenmeier   M   \n",
              "...                  ...                                      ...  ..   \n",
              "Tug-Of-War         86368                           August Nilsson   M   \n",
              "Volleyball         14306                 Georgi Spasov Boyadzhiev   M   \n",
              "Water Polo         74733  Auguste Jean Baptiste Louis Joseph Marc   M   \n",
              "Weightlifting      54456                   Alexander Viggo Jensen   M   \n",
              "Wrestling         122329                          Georgios Tsitas   M   \n",
              "\n",
              "                        Age      Height     Weight  \\\n",
              "Sport                                                \n",
              "Aeronautics       26.000000  174.589865  71.098729   \n",
              "Alpine Skiing     17.000000  172.439922  66.363886   \n",
              "Alpinism          37.000000  176.995129  76.867544   \n",
              "Archery           27.618563  174.310796  71.897322   \n",
              "Art Competitions  31.000000  175.339389  73.692765   \n",
              "...                     ...         ...        ...   \n",
              "Tug-Of-War        27.000000  174.161415  71.570173   \n",
              "Volleyball        21.000000  177.000000  76.000000   \n",
              "Water Polo        19.000000  172.250355  67.361423   \n",
              "Weightlifting     21.000000  172.653972  68.407539   \n",
              "Wrestling         27.721559  174.261331  71.945520   \n",
              "\n",
              "                                               Team  NOC        Games    Year  \\\n",
              "Sport                                                                           \n",
              "Aeronautics                             Switzerland  SUI  1936 Summer  1936.0   \n",
              "Alpine Skiing                                Turkey  TUR  1936 Winter  1936.0   \n",
              "Alpinism                              Great Britain  GBR  1924 Winter  1924.0   \n",
              "Archery                                      France  FRA  1900 Summer  1900.0   \n",
              "Art Competitions                        Switzerland  SUI  1912 Summer  1912.0   \n",
              "...                                             ...  ...          ...     ...   \n",
              "Tug-Of-War                           Denmark/Sweden  SWE  1900 Summer  1900.0   \n",
              "Volleyball                                 Bulgaria  BUL  1964 Summer  1964.0   \n",
              "Water Polo        Pupilles de Neptune de Lille #2-1  FRA  1900 Summer  1900.0   \n",
              "Weightlifting                               Denmark  DEN  1896 Summer  1896.0   \n",
              "Wrestling                                    Greece  GRE  1896 Summer  1896.0   \n",
              "\n",
              "                  Season                    City  \\\n",
              "Sport                                              \n",
              "Aeronautics       Summer                  Berlin   \n",
              "Alpine Skiing     Winter  Garmisch-Partenkirchen   \n",
              "Alpinism          Winter                Chamonix   \n",
              "Archery           Summer                   Paris   \n",
              "Art Competitions  Summer               Stockholm   \n",
              "...                  ...                     ...   \n",
              "Tug-Of-War        Summer                   Paris   \n",
              "Volleyball        Summer                   Tokyo   \n",
              "Water Polo        Summer                   Paris   \n",
              "Weightlifting     Summer                  Athina   \n",
              "Wrestling         Summer                  Athina   \n",
              "\n",
              "                                                         Event   Medal  \n",
              "Sport                                                                   \n",
              "Aeronautics                      Aeronautics Mixed Aeronautics    Gold  \n",
              "Alpine Skiing                     Alpine Skiing Men's Combined      NA  \n",
              "Alpinism                               Alpinism Mixed Alpinism    Gold  \n",
              "Archery                Archery Men's Au Cordon Dore, 50 metres      NA  \n",
              "Art Competitions           Art Competitions Mixed Architecture      NA  \n",
              "...                                                        ...     ...  \n",
              "Tug-Of-War                         Tug-Of-War Men's Tug-Of-War    Gold  \n",
              "Volleyball                         Volleyball Men's Volleyball      NA  \n",
              "Water Polo                         Water Polo Men's Water Polo  Bronze  \n",
              "Weightlifting          Weightlifting Men's Unlimited, One Hand  Silver  \n",
              "Wrestling         Wrestling Men's Unlimited Class, Greco-Roman  Silver  \n",
              "\n",
              "[66 rows x 14 columns]"
            ]
          },
          "execution_count": 30,
          "metadata": {},
          "output_type": "execute_result"
        }
      ],
      "source": [
        "olympics.sort_values('Year').groupby('Sport').first()"
      ]
    },
    {
      "cell_type": "markdown",
      "metadata": {
        "id": "VlgYNNEphIlt"
      },
      "source": [
        "### 18. What are the average `Age`, `Height`, `Weight` of female versus male Olympic athletes"
      ]
    },
    {
      "cell_type": "code",
      "execution_count": null,
      "metadata": {
        "id": "wILesT4AhIlu",
        "outputId": "8eb09a0f-9af1-4542-cdeb-0be2a8567232"
      },
      "outputs": [
        {
          "data": {
            "text/html": [
              "<div>\n",
              "<style scoped>\n",
              "    .dataframe tbody tr th:only-of-type {\n",
              "        vertical-align: middle;\n",
              "    }\n",
              "\n",
              "    .dataframe tbody tr th {\n",
              "        vertical-align: top;\n",
              "    }\n",
              "\n",
              "    .dataframe thead th {\n",
              "        text-align: right;\n",
              "    }\n",
              "</style>\n",
              "<table border=\"1\" class=\"dataframe\">\n",
              "  <thead>\n",
              "    <tr style=\"text-align: right;\">\n",
              "      <th></th>\n",
              "      <th>Age</th>\n",
              "      <th>Height</th>\n",
              "      <th>Weight</th>\n",
              "    </tr>\n",
              "    <tr>\n",
              "      <th>Sex</th>\n",
              "      <th></th>\n",
              "      <th></th>\n",
              "      <th></th>\n",
              "    </tr>\n",
              "  </thead>\n",
              "  <tbody>\n",
              "    <tr>\n",
              "      <th>F</th>\n",
              "      <td>23.748234</td>\n",
              "      <td>168.476034</td>\n",
              "      <td>60.960650</td>\n",
              "    </tr>\n",
              "    <tr>\n",
              "      <th>M</th>\n",
              "      <td>26.302496</td>\n",
              "      <td>177.859161</td>\n",
              "      <td>74.740574</td>\n",
              "    </tr>\n",
              "  </tbody>\n",
              "</table>\n",
              "</div>"
            ],
            "text/plain": [
              "           Age      Height     Weight\n",
              "Sex                                  \n",
              "F    23.748234  168.476034  60.960650\n",
              "M    26.302496  177.859161  74.740574"
            ]
          },
          "execution_count": 31,
          "metadata": {},
          "output_type": "execute_result"
        }
      ],
      "source": [
        "olympics.groupby('Sex')[['Age','Height','Weight']].mean()"
      ]
    },
    {
      "cell_type": "markdown",
      "metadata": {
        "id": "rif69z_GhIlu"
      },
      "source": [
        "### 19. What are the minimum, average, maximum `Age`, `Height`, `Weight` of athletes in different `Year`"
      ]
    },
    {
      "cell_type": "code",
      "execution_count": null,
      "metadata": {
        "id": "a1lYg5kThIlv",
        "outputId": "c0130224-8b75-404d-d734-1bff4b09425e"
      },
      "outputs": [
        {
          "data": {
            "text/html": [
              "<div>\n",
              "<style scoped>\n",
              "    .dataframe tbody tr th:only-of-type {\n",
              "        vertical-align: middle;\n",
              "    }\n",
              "\n",
              "    .dataframe tbody tr th {\n",
              "        vertical-align: top;\n",
              "    }\n",
              "\n",
              "    .dataframe thead tr th {\n",
              "        text-align: left;\n",
              "    }\n",
              "\n",
              "    .dataframe thead tr:last-of-type th {\n",
              "        text-align: right;\n",
              "    }\n",
              "</style>\n",
              "<table border=\"1\" class=\"dataframe\">\n",
              "  <thead>\n",
              "    <tr>\n",
              "      <th></th>\n",
              "      <th colspan=\"3\" halign=\"left\">Age</th>\n",
              "      <th colspan=\"3\" halign=\"left\">Height</th>\n",
              "      <th colspan=\"3\" halign=\"left\">Weight</th>\n",
              "    </tr>\n",
              "    <tr>\n",
              "      <th></th>\n",
              "      <th>min</th>\n",
              "      <th>mean</th>\n",
              "      <th>max</th>\n",
              "      <th>min</th>\n",
              "      <th>mean</th>\n",
              "      <th>max</th>\n",
              "      <th>min</th>\n",
              "      <th>mean</th>\n",
              "      <th>max</th>\n",
              "    </tr>\n",
              "    <tr>\n",
              "      <th>Year</th>\n",
              "      <th></th>\n",
              "      <th></th>\n",
              "      <th></th>\n",
              "      <th></th>\n",
              "      <th></th>\n",
              "      <th></th>\n",
              "      <th></th>\n",
              "      <th></th>\n",
              "      <th></th>\n",
              "    </tr>\n",
              "  </thead>\n",
              "  <tbody>\n",
              "    <tr>\n",
              "      <th>1896.0</th>\n",
              "      <td>10.0</td>\n",
              "      <td>25.364356</td>\n",
              "      <td>40.0</td>\n",
              "      <td>154.0</td>\n",
              "      <td>173.569607</td>\n",
              "      <td>188.000000</td>\n",
              "      <td>45.000000</td>\n",
              "      <td>70.982411</td>\n",
              "      <td>106.0</td>\n",
              "    </tr>\n",
              "    <tr>\n",
              "      <th>1900.0</th>\n",
              "      <td>13.0</td>\n",
              "      <td>28.454101</td>\n",
              "      <td>71.0</td>\n",
              "      <td>153.0</td>\n",
              "      <td>174.664627</td>\n",
              "      <td>191.000000</td>\n",
              "      <td>51.000000</td>\n",
              "      <td>72.502816</td>\n",
              "      <td>102.0</td>\n",
              "    </tr>\n",
              "    <tr>\n",
              "      <th>1904.0</th>\n",
              "      <td>14.0</td>\n",
              "      <td>26.867754</td>\n",
              "      <td>71.0</td>\n",
              "      <td>155.0</td>\n",
              "      <td>174.435046</td>\n",
              "      <td>195.000000</td>\n",
              "      <td>43.000000</td>\n",
              "      <td>71.715326</td>\n",
              "      <td>115.0</td>\n",
              "    </tr>\n",
              "    <tr>\n",
              "      <th>1906.0</th>\n",
              "      <td>13.0</td>\n",
              "      <td>27.272610</td>\n",
              "      <td>54.0</td>\n",
              "      <td>165.0</td>\n",
              "      <td>174.946975</td>\n",
              "      <td>196.000000</td>\n",
              "      <td>52.000000</td>\n",
              "      <td>72.309427</td>\n",
              "      <td>114.0</td>\n",
              "    </tr>\n",
              "    <tr>\n",
              "      <th>1908.0</th>\n",
              "      <td>14.0</td>\n",
              "      <td>27.061116</td>\n",
              "      <td>61.0</td>\n",
              "      <td>157.0</td>\n",
              "      <td>175.059627</td>\n",
              "      <td>201.000000</td>\n",
              "      <td>51.000000</td>\n",
              "      <td>72.484058</td>\n",
              "      <td>115.0</td>\n",
              "    </tr>\n",
              "    <tr>\n",
              "      <th>1912.0</th>\n",
              "      <td>13.0</td>\n",
              "      <td>27.528582</td>\n",
              "      <td>67.0</td>\n",
              "      <td>157.0</td>\n",
              "      <td>175.149494</td>\n",
              "      <td>200.000000</td>\n",
              "      <td>49.000000</td>\n",
              "      <td>72.354296</td>\n",
              "      <td>125.0</td>\n",
              "    </tr>\n",
              "    <tr>\n",
              "      <th>1920.0</th>\n",
              "      <td>13.0</td>\n",
              "      <td>28.861062</td>\n",
              "      <td>72.0</td>\n",
              "      <td>142.0</td>\n",
              "      <td>175.220153</td>\n",
              "      <td>218.770915</td>\n",
              "      <td>33.074491</td>\n",
              "      <td>72.791440</td>\n",
              "      <td>146.0</td>\n",
              "    </tr>\n",
              "    <tr>\n",
              "      <th>1924.0</th>\n",
              "      <td>11.0</td>\n",
              "      <td>28.101622</td>\n",
              "      <td>81.0</td>\n",
              "      <td>142.0</td>\n",
              "      <td>174.980222</td>\n",
              "      <td>218.578230</td>\n",
              "      <td>34.356723</td>\n",
              "      <td>72.217506</td>\n",
              "      <td>146.0</td>\n",
              "    </tr>\n",
              "    <tr>\n",
              "      <th>1928.0</th>\n",
              "      <td>11.0</td>\n",
              "      <td>28.728275</td>\n",
              "      <td>97.0</td>\n",
              "      <td>147.0</td>\n",
              "      <td>175.282553</td>\n",
              "      <td>211.000000</td>\n",
              "      <td>41.000000</td>\n",
              "      <td>72.568654</td>\n",
              "      <td>125.0</td>\n",
              "    </tr>\n",
              "    <tr>\n",
              "      <th>1932.0</th>\n",
              "      <td>11.0</td>\n",
              "      <td>32.002855</td>\n",
              "      <td>96.0</td>\n",
              "      <td>147.0</td>\n",
              "      <td>175.826347</td>\n",
              "      <td>200.000000</td>\n",
              "      <td>40.090648</td>\n",
              "      <td>73.867313</td>\n",
              "      <td>110.0</td>\n",
              "    </tr>\n",
              "    <tr>\n",
              "      <th>1936.0</th>\n",
              "      <td>11.0</td>\n",
              "      <td>27.506104</td>\n",
              "      <td>74.0</td>\n",
              "      <td>147.0</td>\n",
              "      <td>175.155241</td>\n",
              "      <td>205.000000</td>\n",
              "      <td>37.000000</td>\n",
              "      <td>71.960859</td>\n",
              "      <td>138.0</td>\n",
              "    </tr>\n",
              "    <tr>\n",
              "      <th>1948.0</th>\n",
              "      <td>12.0</td>\n",
              "      <td>28.407495</td>\n",
              "      <td>84.0</td>\n",
              "      <td>140.0</td>\n",
              "      <td>175.567741</td>\n",
              "      <td>213.000000</td>\n",
              "      <td>47.000000</td>\n",
              "      <td>72.408041</td>\n",
              "      <td>125.0</td>\n",
              "    </tr>\n",
              "    <tr>\n",
              "      <th>1952.0</th>\n",
              "      <td>12.0</td>\n",
              "      <td>26.165217</td>\n",
              "      <td>65.0</td>\n",
              "      <td>150.0</td>\n",
              "      <td>174.812820</td>\n",
              "      <td>213.000000</td>\n",
              "      <td>42.000000</td>\n",
              "      <td>71.097510</td>\n",
              "      <td>145.0</td>\n",
              "    </tr>\n",
              "    <tr>\n",
              "      <th>1956.0</th>\n",
              "      <td>12.0</td>\n",
              "      <td>25.949715</td>\n",
              "      <td>67.0</td>\n",
              "      <td>137.0</td>\n",
              "      <td>174.607226</td>\n",
              "      <td>218.000000</td>\n",
              "      <td>28.000000</td>\n",
              "      <td>71.041599</td>\n",
              "      <td>141.0</td>\n",
              "    </tr>\n",
              "    <tr>\n",
              "      <th>1960.0</th>\n",
              "      <td>11.0</td>\n",
              "      <td>25.187182</td>\n",
              "      <td>65.0</td>\n",
              "      <td>137.0</td>\n",
              "      <td>173.316035</td>\n",
              "      <td>218.000000</td>\n",
              "      <td>36.000000</td>\n",
              "      <td>69.480564</td>\n",
              "      <td>141.0</td>\n",
              "    </tr>\n",
              "    <tr>\n",
              "      <th>1964.0</th>\n",
              "      <td>12.0</td>\n",
              "      <td>24.948374</td>\n",
              "      <td>60.0</td>\n",
              "      <td>137.0</td>\n",
              "      <td>173.546073</td>\n",
              "      <td>218.000000</td>\n",
              "      <td>38.000000</td>\n",
              "      <td>69.759825</td>\n",
              "      <td>163.0</td>\n",
              "    </tr>\n",
              "    <tr>\n",
              "      <th>1968.0</th>\n",
              "      <td>11.0</td>\n",
              "      <td>24.263374</td>\n",
              "      <td>68.0</td>\n",
              "      <td>127.0</td>\n",
              "      <td>173.959439</td>\n",
              "      <td>216.000000</td>\n",
              "      <td>34.000000</td>\n",
              "      <td>69.609517</td>\n",
              "      <td>163.0</td>\n",
              "    </tr>\n",
              "    <tr>\n",
              "      <th>1972.0</th>\n",
              "      <td>12.0</td>\n",
              "      <td>24.318900</td>\n",
              "      <td>69.0</td>\n",
              "      <td>130.0</td>\n",
              "      <td>174.562405</td>\n",
              "      <td>223.000000</td>\n",
              "      <td>38.000000</td>\n",
              "      <td>70.003339</td>\n",
              "      <td>182.0</td>\n",
              "    </tr>\n",
              "    <tr>\n",
              "      <th>1976.0</th>\n",
              "      <td>12.0</td>\n",
              "      <td>23.850452</td>\n",
              "      <td>70.0</td>\n",
              "      <td>136.0</td>\n",
              "      <td>174.865117</td>\n",
              "      <td>220.000000</td>\n",
              "      <td>30.000000</td>\n",
              "      <td>70.000335</td>\n",
              "      <td>163.0</td>\n",
              "    </tr>\n",
              "    <tr>\n",
              "      <th>1980.0</th>\n",
              "      <td>13.0</td>\n",
              "      <td>23.734613</td>\n",
              "      <td>70.0</td>\n",
              "      <td>131.0</td>\n",
              "      <td>175.508742</td>\n",
              "      <td>220.000000</td>\n",
              "      <td>25.000000</td>\n",
              "      <td>70.624903</td>\n",
              "      <td>190.0</td>\n",
              "    </tr>\n",
              "    <tr>\n",
              "      <th>1984.0</th>\n",
              "      <td>12.0</td>\n",
              "      <td>23.925675</td>\n",
              "      <td>60.0</td>\n",
              "      <td>132.0</td>\n",
              "      <td>175.524970</td>\n",
              "      <td>218.000000</td>\n",
              "      <td>31.000000</td>\n",
              "      <td>70.257754</td>\n",
              "      <td>150.0</td>\n",
              "    </tr>\n",
              "    <tr>\n",
              "      <th>1988.0</th>\n",
              "      <td>11.0</td>\n",
              "      <td>24.085104</td>\n",
              "      <td>70.0</td>\n",
              "      <td>127.0</td>\n",
              "      <td>175.698459</td>\n",
              "      <td>223.000000</td>\n",
              "      <td>32.000000</td>\n",
              "      <td>70.443543</td>\n",
              "      <td>161.0</td>\n",
              "    </tr>\n",
              "    <tr>\n",
              "      <th>1992.0</th>\n",
              "      <td>11.0</td>\n",
              "      <td>24.319680</td>\n",
              "      <td>62.0</td>\n",
              "      <td>136.0</td>\n",
              "      <td>175.959574</td>\n",
              "      <td>226.000000</td>\n",
              "      <td>30.000000</td>\n",
              "      <td>70.862030</td>\n",
              "      <td>176.5</td>\n",
              "    </tr>\n",
              "    <tr>\n",
              "      <th>1994.0</th>\n",
              "      <td>13.0</td>\n",
              "      <td>24.422594</td>\n",
              "      <td>46.0</td>\n",
              "      <td>148.0</td>\n",
              "      <td>175.158296</td>\n",
              "      <td>200.000000</td>\n",
              "      <td>40.000000</td>\n",
              "      <td>70.972262</td>\n",
              "      <td>113.0</td>\n",
              "    </tr>\n",
              "    <tr>\n",
              "      <th>1996.0</th>\n",
              "      <td>12.0</td>\n",
              "      <td>24.915179</td>\n",
              "      <td>63.0</td>\n",
              "      <td>136.0</td>\n",
              "      <td>175.836214</td>\n",
              "      <td>223.000000</td>\n",
              "      <td>30.000000</td>\n",
              "      <td>70.818289</td>\n",
              "      <td>176.5</td>\n",
              "    </tr>\n",
              "    <tr>\n",
              "      <th>1998.0</th>\n",
              "      <td>14.0</td>\n",
              "      <td>25.163160</td>\n",
              "      <td>50.0</td>\n",
              "      <td>142.0</td>\n",
              "      <td>174.589636</td>\n",
              "      <td>200.000000</td>\n",
              "      <td>32.000000</td>\n",
              "      <td>70.898616</td>\n",
              "      <td>123.0</td>\n",
              "    </tr>\n",
              "    <tr>\n",
              "      <th>2000.0</th>\n",
              "      <td>13.0</td>\n",
              "      <td>25.422476</td>\n",
              "      <td>63.0</td>\n",
              "      <td>136.0</td>\n",
              "      <td>176.085713</td>\n",
              "      <td>226.000000</td>\n",
              "      <td>28.000000</td>\n",
              "      <td>71.106805</td>\n",
              "      <td>180.0</td>\n",
              "    </tr>\n",
              "    <tr>\n",
              "      <th>2002.0</th>\n",
              "      <td>15.0</td>\n",
              "      <td>25.916281</td>\n",
              "      <td>48.0</td>\n",
              "      <td>149.0</td>\n",
              "      <td>174.709888</td>\n",
              "      <td>201.000000</td>\n",
              "      <td>42.000000</td>\n",
              "      <td>71.164405</td>\n",
              "      <td>123.0</td>\n",
              "    </tr>\n",
              "    <tr>\n",
              "      <th>2004.0</th>\n",
              "      <td>13.0</td>\n",
              "      <td>25.639515</td>\n",
              "      <td>57.0</td>\n",
              "      <td>139.0</td>\n",
              "      <td>175.971393</td>\n",
              "      <td>226.000000</td>\n",
              "      <td>30.000000</td>\n",
              "      <td>71.284135</td>\n",
              "      <td>198.0</td>\n",
              "    </tr>\n",
              "    <tr>\n",
              "      <th>2006.0</th>\n",
              "      <td>14.0</td>\n",
              "      <td>25.959151</td>\n",
              "      <td>52.0</td>\n",
              "      <td>147.0</td>\n",
              "      <td>174.628393</td>\n",
              "      <td>206.000000</td>\n",
              "      <td>38.000000</td>\n",
              "      <td>70.512440</td>\n",
              "      <td>127.0</td>\n",
              "    </tr>\n",
              "    <tr>\n",
              "      <th>2008.0</th>\n",
              "      <td>12.0</td>\n",
              "      <td>25.733541</td>\n",
              "      <td>67.0</td>\n",
              "      <td>137.0</td>\n",
              "      <td>176.209780</td>\n",
              "      <td>226.000000</td>\n",
              "      <td>28.000000</td>\n",
              "      <td>71.375322</td>\n",
              "      <td>214.0</td>\n",
              "    </tr>\n",
              "    <tr>\n",
              "      <th>2010.0</th>\n",
              "      <td>15.0</td>\n",
              "      <td>26.124262</td>\n",
              "      <td>51.0</td>\n",
              "      <td>149.0</td>\n",
              "      <td>174.918873</td>\n",
              "      <td>206.000000</td>\n",
              "      <td>38.000000</td>\n",
              "      <td>70.733917</td>\n",
              "      <td>116.0</td>\n",
              "    </tr>\n",
              "    <tr>\n",
              "      <th>2012.0</th>\n",
              "      <td>13.0</td>\n",
              "      <td>25.961378</td>\n",
              "      <td>71.0</td>\n",
              "      <td>140.0</td>\n",
              "      <td>176.247158</td>\n",
              "      <td>221.000000</td>\n",
              "      <td>30.071474</td>\n",
              "      <td>71.173434</td>\n",
              "      <td>214.0</td>\n",
              "    </tr>\n",
              "    <tr>\n",
              "      <th>2014.0</th>\n",
              "      <td>15.0</td>\n",
              "      <td>25.987324</td>\n",
              "      <td>55.0</td>\n",
              "      <td>146.0</td>\n",
              "      <td>174.818773</td>\n",
              "      <td>206.000000</td>\n",
              "      <td>38.066881</td>\n",
              "      <td>70.572661</td>\n",
              "      <td>116.0</td>\n",
              "    </tr>\n",
              "    <tr>\n",
              "      <th>2016.0</th>\n",
              "      <td>13.0</td>\n",
              "      <td>26.207919</td>\n",
              "      <td>62.0</td>\n",
              "      <td>133.0</td>\n",
              "      <td>176.024469</td>\n",
              "      <td>218.000000</td>\n",
              "      <td>30.000000</td>\n",
              "      <td>70.966084</td>\n",
              "      <td>170.0</td>\n",
              "    </tr>\n",
              "  </tbody>\n",
              "</table>\n",
              "</div>"
            ],
            "text/plain": [
              "         Age                  Height                             Weight  \\\n",
              "         min       mean   max    min        mean         max        min   \n",
              "Year                                                                      \n",
              "1896.0  10.0  25.364356  40.0  154.0  173.569607  188.000000  45.000000   \n",
              "1900.0  13.0  28.454101  71.0  153.0  174.664627  191.000000  51.000000   \n",
              "1904.0  14.0  26.867754  71.0  155.0  174.435046  195.000000  43.000000   \n",
              "1906.0  13.0  27.272610  54.0  165.0  174.946975  196.000000  52.000000   \n",
              "1908.0  14.0  27.061116  61.0  157.0  175.059627  201.000000  51.000000   \n",
              "1912.0  13.0  27.528582  67.0  157.0  175.149494  200.000000  49.000000   \n",
              "1920.0  13.0  28.861062  72.0  142.0  175.220153  218.770915  33.074491   \n",
              "1924.0  11.0  28.101622  81.0  142.0  174.980222  218.578230  34.356723   \n",
              "1928.0  11.0  28.728275  97.0  147.0  175.282553  211.000000  41.000000   \n",
              "1932.0  11.0  32.002855  96.0  147.0  175.826347  200.000000  40.090648   \n",
              "1936.0  11.0  27.506104  74.0  147.0  175.155241  205.000000  37.000000   \n",
              "1948.0  12.0  28.407495  84.0  140.0  175.567741  213.000000  47.000000   \n",
              "1952.0  12.0  26.165217  65.0  150.0  174.812820  213.000000  42.000000   \n",
              "1956.0  12.0  25.949715  67.0  137.0  174.607226  218.000000  28.000000   \n",
              "1960.0  11.0  25.187182  65.0  137.0  173.316035  218.000000  36.000000   \n",
              "1964.0  12.0  24.948374  60.0  137.0  173.546073  218.000000  38.000000   \n",
              "1968.0  11.0  24.263374  68.0  127.0  173.959439  216.000000  34.000000   \n",
              "1972.0  12.0  24.318900  69.0  130.0  174.562405  223.000000  38.000000   \n",
              "1976.0  12.0  23.850452  70.0  136.0  174.865117  220.000000  30.000000   \n",
              "1980.0  13.0  23.734613  70.0  131.0  175.508742  220.000000  25.000000   \n",
              "1984.0  12.0  23.925675  60.0  132.0  175.524970  218.000000  31.000000   \n",
              "1988.0  11.0  24.085104  70.0  127.0  175.698459  223.000000  32.000000   \n",
              "1992.0  11.0  24.319680  62.0  136.0  175.959574  226.000000  30.000000   \n",
              "1994.0  13.0  24.422594  46.0  148.0  175.158296  200.000000  40.000000   \n",
              "1996.0  12.0  24.915179  63.0  136.0  175.836214  223.000000  30.000000   \n",
              "1998.0  14.0  25.163160  50.0  142.0  174.589636  200.000000  32.000000   \n",
              "2000.0  13.0  25.422476  63.0  136.0  176.085713  226.000000  28.000000   \n",
              "2002.0  15.0  25.916281  48.0  149.0  174.709888  201.000000  42.000000   \n",
              "2004.0  13.0  25.639515  57.0  139.0  175.971393  226.000000  30.000000   \n",
              "2006.0  14.0  25.959151  52.0  147.0  174.628393  206.000000  38.000000   \n",
              "2008.0  12.0  25.733541  67.0  137.0  176.209780  226.000000  28.000000   \n",
              "2010.0  15.0  26.124262  51.0  149.0  174.918873  206.000000  38.000000   \n",
              "2012.0  13.0  25.961378  71.0  140.0  176.247158  221.000000  30.071474   \n",
              "2014.0  15.0  25.987324  55.0  146.0  174.818773  206.000000  38.066881   \n",
              "2016.0  13.0  26.207919  62.0  133.0  176.024469  218.000000  30.000000   \n",
              "\n",
              "                          \n",
              "             mean    max  \n",
              "Year                      \n",
              "1896.0  70.982411  106.0  \n",
              "1900.0  72.502816  102.0  \n",
              "1904.0  71.715326  115.0  \n",
              "1906.0  72.309427  114.0  \n",
              "1908.0  72.484058  115.0  \n",
              "1912.0  72.354296  125.0  \n",
              "1920.0  72.791440  146.0  \n",
              "1924.0  72.217506  146.0  \n",
              "1928.0  72.568654  125.0  \n",
              "1932.0  73.867313  110.0  \n",
              "1936.0  71.960859  138.0  \n",
              "1948.0  72.408041  125.0  \n",
              "1952.0  71.097510  145.0  \n",
              "1956.0  71.041599  141.0  \n",
              "1960.0  69.480564  141.0  \n",
              "1964.0  69.759825  163.0  \n",
              "1968.0  69.609517  163.0  \n",
              "1972.0  70.003339  182.0  \n",
              "1976.0  70.000335  163.0  \n",
              "1980.0  70.624903  190.0  \n",
              "1984.0  70.257754  150.0  \n",
              "1988.0  70.443543  161.0  \n",
              "1992.0  70.862030  176.5  \n",
              "1994.0  70.972262  113.0  \n",
              "1996.0  70.818289  176.5  \n",
              "1998.0  70.898616  123.0  \n",
              "2000.0  71.106805  180.0  \n",
              "2002.0  71.164405  123.0  \n",
              "2004.0  71.284135  198.0  \n",
              "2006.0  70.512440  127.0  \n",
              "2008.0  71.375322  214.0  \n",
              "2010.0  70.733917  116.0  \n",
              "2012.0  71.173434  214.0  \n",
              "2014.0  70.572661  116.0  \n",
              "2016.0  70.966084  170.0  "
            ]
          },
          "execution_count": 32,
          "metadata": {},
          "output_type": "execute_result"
        }
      ],
      "source": [
        "olympics.groupby('Year')[['Age','Height','Weight']].agg(['min', 'mean', 'max'])"
      ]
    },
    {
      "cell_type": "markdown",
      "metadata": {
        "id": "XapW4eObhIlw"
      },
      "source": [
        "### 20. What are the minimum, average, median, maximum `Age` of athletes for different `Season` and `Sex` combinations"
      ]
    },
    {
      "cell_type": "code",
      "execution_count": null,
      "metadata": {
        "id": "FcBjPe7HhIlx",
        "outputId": "151cd750-11ce-4274-e2ff-0621b322b9cc"
      },
      "outputs": [
        {
          "data": {
            "text/html": [
              "<div>\n",
              "<style scoped>\n",
              "    .dataframe tbody tr th:only-of-type {\n",
              "        vertical-align: middle;\n",
              "    }\n",
              "\n",
              "    .dataframe tbody tr th {\n",
              "        vertical-align: top;\n",
              "    }\n",
              "\n",
              "    .dataframe thead th {\n",
              "        text-align: right;\n",
              "    }\n",
              "</style>\n",
              "<table border=\"1\" class=\"dataframe\">\n",
              "  <thead>\n",
              "    <tr style=\"text-align: right;\">\n",
              "      <th></th>\n",
              "      <th></th>\n",
              "      <th>min</th>\n",
              "      <th>mean</th>\n",
              "      <th>median</th>\n",
              "      <th>max</th>\n",
              "    </tr>\n",
              "    <tr>\n",
              "      <th>Season</th>\n",
              "      <th>Sex</th>\n",
              "      <th></th>\n",
              "      <th></th>\n",
              "      <th></th>\n",
              "      <th></th>\n",
              "    </tr>\n",
              "  </thead>\n",
              "  <tbody>\n",
              "    <tr>\n",
              "      <th rowspan=\"2\" valign=\"top\">Summer</th>\n",
              "      <th>F</th>\n",
              "      <td>11.0</td>\n",
              "      <td>23.680377</td>\n",
              "      <td>23.0</td>\n",
              "      <td>74.0</td>\n",
              "    </tr>\n",
              "    <tr>\n",
              "      <th>M</th>\n",
              "      <td>10.0</td>\n",
              "      <td>26.464649</td>\n",
              "      <td>25.0</td>\n",
              "      <td>97.0</td>\n",
              "    </tr>\n",
              "    <tr>\n",
              "      <th rowspan=\"2\" valign=\"top\">Winter</th>\n",
              "      <th>F</th>\n",
              "      <td>11.0</td>\n",
              "      <td>24.015736</td>\n",
              "      <td>24.0</td>\n",
              "      <td>48.0</td>\n",
              "    </tr>\n",
              "    <tr>\n",
              "      <th>M</th>\n",
              "      <td>12.0</td>\n",
              "      <td>25.512635</td>\n",
              "      <td>25.0</td>\n",
              "      <td>58.0</td>\n",
              "    </tr>\n",
              "  </tbody>\n",
              "</table>\n",
              "</div>"
            ],
            "text/plain": [
              "             min       mean  median   max\n",
              "Season Sex                               \n",
              "Summer F    11.0  23.680377    23.0  74.0\n",
              "       M    10.0  26.464649    25.0  97.0\n",
              "Winter F    11.0  24.015736    24.0  48.0\n",
              "       M    12.0  25.512635    25.0  58.0"
            ]
          },
          "execution_count": 33,
          "metadata": {},
          "output_type": "execute_result"
        }
      ],
      "source": [
        "olympics.groupby(['Season', 'Sex'])['Age'].agg(['min', 'mean', 'median', 'max'])"
      ]
    },
    {
      "cell_type": "markdown",
      "metadata": {
        "id": "-JtS-oCghIly"
      },
      "source": [
        "### 21. What are the average `Age` of athletes, and numbers of unique `Team`, `Sport`, `Event`, for different `Season` and `Sex` combinations"
      ]
    },
    {
      "cell_type": "code",
      "execution_count": null,
      "metadata": {
        "id": "uM5jsFunhIly",
        "outputId": "ef1bdb0c-39b9-4be4-c57b-7ae483164a68"
      },
      "outputs": [
        {
          "data": {
            "text/html": [
              "<div>\n",
              "<style scoped>\n",
              "    .dataframe tbody tr th:only-of-type {\n",
              "        vertical-align: middle;\n",
              "    }\n",
              "\n",
              "    .dataframe tbody tr th {\n",
              "        vertical-align: top;\n",
              "    }\n",
              "\n",
              "    .dataframe thead th {\n",
              "        text-align: right;\n",
              "    }\n",
              "</style>\n",
              "<table border=\"1\" class=\"dataframe\">\n",
              "  <thead>\n",
              "    <tr style=\"text-align: right;\">\n",
              "      <th></th>\n",
              "      <th></th>\n",
              "      <th>Age</th>\n",
              "      <th>Team</th>\n",
              "      <th>Sport</th>\n",
              "      <th>Event</th>\n",
              "    </tr>\n",
              "    <tr>\n",
              "      <th>Season</th>\n",
              "      <th>Sex</th>\n",
              "      <th></th>\n",
              "      <th></th>\n",
              "      <th></th>\n",
              "      <th></th>\n",
              "    </tr>\n",
              "  </thead>\n",
              "  <tbody>\n",
              "    <tr>\n",
              "      <th rowspan=\"2\" valign=\"top\">Summer</th>\n",
              "      <th>F</th>\n",
              "      <td>23.680377</td>\n",
              "      <td>352</td>\n",
              "      <td>40</td>\n",
              "      <td>214</td>\n",
              "    </tr>\n",
              "    <tr>\n",
              "      <th>M</th>\n",
              "      <td>26.464649</td>\n",
              "      <td>1118</td>\n",
              "      <td>49</td>\n",
              "      <td>491</td>\n",
              "    </tr>\n",
              "    <tr>\n",
              "      <th rowspan=\"2\" valign=\"top\">Winter</th>\n",
              "      <th>F</th>\n",
              "      <td>24.015736</td>\n",
              "      <td>144</td>\n",
              "      <td>14</td>\n",
              "      <td>57</td>\n",
              "    </tr>\n",
              "    <tr>\n",
              "      <th>M</th>\n",
              "      <td>25.512635</td>\n",
              "      <td>214</td>\n",
              "      <td>17</td>\n",
              "      <td>67</td>\n",
              "    </tr>\n",
              "  </tbody>\n",
              "</table>\n",
              "</div>"
            ],
            "text/plain": [
              "                  Age  Team  Sport  Event\n",
              "Season Sex                               \n",
              "Summer F    23.680377   352     40    214\n",
              "       M    26.464649  1118     49    491\n",
              "Winter F    24.015736   144     14     57\n",
              "       M    25.512635   214     17     67"
            ]
          },
          "execution_count": 34,
          "metadata": {},
          "output_type": "execute_result"
        }
      ],
      "source": [
        "olympics.groupby(['Season', 'Sex']).agg({'Age': 'mean', 'Team': 'nunique', 'Sport': 'nunique', 'Event': 'nunique'})"
      ]
    },
    {
      "cell_type": "markdown",
      "metadata": {
        "id": "y6IYJk25hIlz"
      },
      "source": [
        "### 22. What are the average `Age`, `Height`, `Weight` of athletes, for different `Medal`, `Season`, `Sex` combinations"
      ]
    },
    {
      "cell_type": "code",
      "execution_count": null,
      "metadata": {
        "id": "par-Hg1NhIlz",
        "outputId": "2e06f89b-1d11-452c-87ed-ae4d941b0837"
      },
      "outputs": [
        {
          "data": {
            "text/html": [
              "<div>\n",
              "<style scoped>\n",
              "    .dataframe tbody tr th:only-of-type {\n",
              "        vertical-align: middle;\n",
              "    }\n",
              "\n",
              "    .dataframe tbody tr th {\n",
              "        vertical-align: top;\n",
              "    }\n",
              "\n",
              "    .dataframe thead th {\n",
              "        text-align: right;\n",
              "    }\n",
              "</style>\n",
              "<table border=\"1\" class=\"dataframe\">\n",
              "  <thead>\n",
              "    <tr style=\"text-align: right;\">\n",
              "      <th></th>\n",
              "      <th></th>\n",
              "      <th></th>\n",
              "      <th>Age</th>\n",
              "      <th>Height</th>\n",
              "      <th>Weight</th>\n",
              "    </tr>\n",
              "    <tr>\n",
              "      <th>Medal</th>\n",
              "      <th>Season</th>\n",
              "      <th>Sex</th>\n",
              "      <th></th>\n",
              "      <th></th>\n",
              "      <th></th>\n",
              "    </tr>\n",
              "  </thead>\n",
              "  <tbody>\n",
              "    <tr>\n",
              "      <th rowspan=\"4\" valign=\"top\">Bronze</th>\n",
              "      <th rowspan=\"2\" valign=\"top\">Summer</th>\n",
              "      <th>F</th>\n",
              "      <td>24.637527</td>\n",
              "      <td>171.110734</td>\n",
              "      <td>63.903325</td>\n",
              "    </tr>\n",
              "    <tr>\n",
              "      <th>M</th>\n",
              "      <td>26.382673</td>\n",
              "      <td>179.283138</td>\n",
              "      <td>76.834194</td>\n",
              "    </tr>\n",
              "    <tr>\n",
              "      <th rowspan=\"2\" valign=\"top\">Winter</th>\n",
              "      <th>F</th>\n",
              "      <td>25.115578</td>\n",
              "      <td>167.339043</td>\n",
              "      <td>61.132946</td>\n",
              "    </tr>\n",
              "    <tr>\n",
              "      <th>M</th>\n",
              "      <td>26.387043</td>\n",
              "      <td>178.831087</td>\n",
              "      <td>77.296962</td>\n",
              "    </tr>\n",
              "    <tr>\n",
              "      <th rowspan=\"4\" valign=\"top\">Gold</th>\n",
              "      <th rowspan=\"2\" valign=\"top\">Summer</th>\n",
              "      <th>F</th>\n",
              "      <td>24.215093</td>\n",
              "      <td>171.594933</td>\n",
              "      <td>64.252235</td>\n",
              "    </tr>\n",
              "    <tr>\n",
              "      <th>M</th>\n",
              "      <td>26.501307</td>\n",
              "      <td>179.803255</td>\n",
              "      <td>77.426878</td>\n",
              "    </tr>\n",
              "    <tr>\n",
              "      <th rowspan=\"2\" valign=\"top\">Winter</th>\n",
              "      <th>F</th>\n",
              "      <td>25.202636</td>\n",
              "      <td>167.563734</td>\n",
              "      <td>62.006768</td>\n",
              "    </tr>\n",
              "    <tr>\n",
              "      <th>M</th>\n",
              "      <td>26.606436</td>\n",
              "      <td>179.569202</td>\n",
              "      <td>78.047604</td>\n",
              "    </tr>\n",
              "    <tr>\n",
              "      <th rowspan=\"4\" valign=\"top\">NA</th>\n",
              "      <th rowspan=\"2\" valign=\"top\">Summer</th>\n",
              "      <th>F</th>\n",
              "      <td>23.547521</td>\n",
              "      <td>168.283937</td>\n",
              "      <td>60.468257</td>\n",
              "    </tr>\n",
              "    <tr>\n",
              "      <th>M</th>\n",
              "      <td>26.454123</td>\n",
              "      <td>177.557129</td>\n",
              "      <td>74.215742</td>\n",
              "    </tr>\n",
              "    <tr>\n",
              "      <th rowspan=\"2\" valign=\"top\">Winter</th>\n",
              "      <th>F</th>\n",
              "      <td>23.855915</td>\n",
              "      <td>167.281733</td>\n",
              "      <td>60.539905</td>\n",
              "    </tr>\n",
              "    <tr>\n",
              "      <th>M</th>\n",
              "      <td>25.386328</td>\n",
              "      <td>177.741840</td>\n",
              "      <td>74.861337</td>\n",
              "    </tr>\n",
              "    <tr>\n",
              "      <th rowspan=\"4\" valign=\"top\">Silver</th>\n",
              "      <th rowspan=\"2\" valign=\"top\">Summer</th>\n",
              "      <th>F</th>\n",
              "      <td>24.296089</td>\n",
              "      <td>171.310947</td>\n",
              "      <td>63.903671</td>\n",
              "    </tr>\n",
              "    <tr>\n",
              "      <th>M</th>\n",
              "      <td>26.690500</td>\n",
              "      <td>179.391244</td>\n",
              "      <td>77.017761</td>\n",
              "    </tr>\n",
              "    <tr>\n",
              "      <th rowspan=\"2\" valign=\"top\">Winter</th>\n",
              "      <th>F</th>\n",
              "      <td>25.240527</td>\n",
              "      <td>167.916040</td>\n",
              "      <td>61.921625</td>\n",
              "    </tr>\n",
              "    <tr>\n",
              "      <th>M</th>\n",
              "      <td>26.430566</td>\n",
              "      <td>179.030573</td>\n",
              "      <td>77.429293</td>\n",
              "    </tr>\n",
              "  </tbody>\n",
              "</table>\n",
              "</div>"
            ],
            "text/plain": [
              "                         Age      Height     Weight\n",
              "Medal  Season Sex                                  \n",
              "Bronze Summer F    24.637527  171.110734  63.903325\n",
              "              M    26.382673  179.283138  76.834194\n",
              "       Winter F    25.115578  167.339043  61.132946\n",
              "              M    26.387043  178.831087  77.296962\n",
              "Gold   Summer F    24.215093  171.594933  64.252235\n",
              "              M    26.501307  179.803255  77.426878\n",
              "       Winter F    25.202636  167.563734  62.006768\n",
              "              M    26.606436  179.569202  78.047604\n",
              "NA     Summer F    23.547521  168.283937  60.468257\n",
              "              M    26.454123  177.557129  74.215742\n",
              "       Winter F    23.855915  167.281733  60.539905\n",
              "              M    25.386328  177.741840  74.861337\n",
              "Silver Summer F    24.296089  171.310947  63.903671\n",
              "              M    26.690500  179.391244  77.017761\n",
              "       Winter F    25.240527  167.916040  61.921625\n",
              "              M    26.430566  179.030573  77.429293"
            ]
          },
          "execution_count": 35,
          "metadata": {},
          "output_type": "execute_result"
        }
      ],
      "source": [
        "olympics.groupby(['Medal', 'Season', 'Sex'])[['Age', 'Height', 'Weight']].mean()"
      ]
    },
    {
      "cell_type": "markdown",
      "metadata": {
        "id": "IGq7Xuc5hIlz"
      },
      "source": [
        "### 23. Plot the scatterplot of `Height` and `Weight`"
      ]
    },
    {
      "cell_type": "code",
      "execution_count": null,
      "metadata": {
        "id": "JDMPl6jphIlz",
        "outputId": "38d25728-f39d-4afc-b7b7-fd2f76c9e140"
      },
      "outputs": [
        {
          "data": {
            "text/plain": [
              "<seaborn.axisgrid.FacetGrid at 0x2ed8538b370>"
            ]
          },
          "execution_count": 36,
          "metadata": {},
          "output_type": "execute_result"
        },
        {
          "data": {
            "image/png": "[encoded data removed]",
            "text/plain": [
              "<Figure size 360x360 with 1 Axes>"
            ]
          },
          "metadata": {
            "needs_background": "light"
          },
          "output_type": "display_data"
        }
      ],
      "source": [
        "sns.relplot(data=olympics, x='Height', y='Weight', kind='scatter')"
      ]
    },
    {
      "cell_type": "markdown",
      "metadata": {
        "id": "h2v1Z6YChIl0"
      },
      "source": [
        "### 24. Plot the scatterplot of `Height` and `Weight`, using different colors and styles of dots for different `Sex`"
      ]
    },
    {
      "cell_type": "code",
      "execution_count": null,
      "metadata": {
        "id": "gc1jrv4rhIl0",
        "outputId": "16e7f93b-ab91-4c70-fee5-d8bd3fc76332"
      },
      "outputs": [
        {
          "data": {
            "text/plain": [
              "<seaborn.axisgrid.FacetGrid at 0x2ed85368a30>"
            ]
          },
          "execution_count": 37,
          "metadata": {},
          "output_type": "execute_result"
        },
        {
          "data": {
            "image/png": "[encoded data removed]",
            "text/plain": [
              "<Figure size 404.625x360 with 1 Axes>"
            ]
          },
          "metadata": {
            "needs_background": "light"
          },
          "output_type": "display_data"
        }
      ],
      "source": [
        "sns.relplot(data=olympics, x='Height', y='Weight', hue='Sex', style='Sex')"
      ]
    },
    {
      "cell_type": "markdown",
      "metadata": {
        "id": "UTsoMiiVhIl0"
      },
      "source": [
        "### 25. Plot the pairwise relationships of `Age`, `Height`, `Weight`"
      ]
    },
    {
      "cell_type": "code",
      "execution_count": null,
      "metadata": {
        "id": "YVjuQPURhIl0",
        "outputId": "c9a8c6dc-93e6-430e-d635-f3b8cfb310b2"
      },
      "outputs": [
        {
          "data": {
            "text/plain": [
              "<seaborn.axisgrid.PairGrid at 0x2ed85407b20>"
            ]
          },
          "execution_count": 38,
          "metadata": {},
          "output_type": "execute_result"
        },
        {
          "data": {
            "image/png": "[encoded data removed]",
            "text/plain": [
              "<Figure size 540x540 with 12 Axes>"
            ]
          },
          "metadata": {
            "needs_background": "light"
          },
          "output_type": "display_data"
        }
      ],
      "source": [
        "sns.pairplot(olympics[['Age', 'Height', 'Weight']])"
      ]
    },
    {
      "cell_type": "markdown",
      "metadata": {
        "id": "fZeyuV3ihIl1"
      },
      "source": [
        "### 26. Plot the pairwise relationships of `Age`, `Height`, `Weight`, with different colors for `Sex`"
      ]
    },
    {
      "cell_type": "code",
      "execution_count": null,
      "metadata": {
        "id": "sOPCxalthIl1",
        "outputId": "1058f5ce-6c23-4c55-bde4-6d6968d512cb"
      },
      "outputs": [
        {
          "data": {
            "text/plain": [
              "<seaborn.axisgrid.PairGrid at 0x2ed8eddad30>"
            ]
          },
          "execution_count": 39,
          "metadata": {},
          "output_type": "execute_result"
        },
        {
          "name": "stdout",
          "output_type": "stream",
          "text": [
            "Error in callback <function flush_figures at 0x000002EDE7CC1DC0> (for post_execute):\n"
          ]
        },
        {
          "ename": "KeyboardInterrupt",
          "evalue": "",
          "output_type": "error",
          "traceback": [
            "\u001b[1;31m---------------------------------------------------------------------------\u001b[0m",
            "\u001b[1;31mKeyboardInterrupt\u001b[0m                         Traceback (most recent call last)",
            "File \u001b[1;32mc:\\Users\\spoky\\miniconda3\\envs\\boolean\\lib\\site-packages\\matplotlib_inline\\backend_inline.py:121\u001b[0m, in \u001b[0;36mflush_figures\u001b[1;34m()\u001b[0m\n\u001b[0;32m    118\u001b[0m \u001b[39mif\u001b[39;00m InlineBackend\u001b[39m.\u001b[39minstance()\u001b[39m.\u001b[39mclose_figures:\n\u001b[0;32m    119\u001b[0m     \u001b[39m# ignore the tracking, just draw and close all figures\u001b[39;00m\n\u001b[0;32m    120\u001b[0m     \u001b[39mtry\u001b[39;00m:\n\u001b[1;32m--> 121\u001b[0m         \u001b[39mreturn\u001b[39;00m show(\u001b[39mTrue\u001b[39;49;00m)\n\u001b[0;32m    122\u001b[0m     \u001b[39mexcept\u001b[39;00m \u001b[39mException\u001b[39;00m \u001b[39mas\u001b[39;00m e:\n\u001b[0;32m    123\u001b[0m         \u001b[39m# safely show traceback if in IPython, else raise\u001b[39;00m\n\u001b[0;32m    124\u001b[0m         ip \u001b[39m=\u001b[39m get_ipython()\n",
            "File \u001b[1;32mc:\\Users\\spoky\\miniconda3\\envs\\boolean\\lib\\site-packages\\matplotlib_inline\\backend_inline.py:41\u001b[0m, in \u001b[0;36mshow\u001b[1;34m(close, block)\u001b[0m\n\u001b[0;32m     39\u001b[0m \u001b[39mtry\u001b[39;00m:\n\u001b[0;32m     40\u001b[0m     \u001b[39mfor\u001b[39;00m figure_manager \u001b[39min\u001b[39;00m Gcf\u001b[39m.\u001b[39mget_all_fig_managers():\n\u001b[1;32m---> 41\u001b[0m         display(\n\u001b[0;32m     42\u001b[0m             figure_manager\u001b[39m.\u001b[39;49mcanvas\u001b[39m.\u001b[39;49mfigure,\n\u001b[0;32m     43\u001b[0m             metadata\u001b[39m=\u001b[39;49m_fetch_figure_metadata(figure_manager\u001b[39m.\u001b[39;49mcanvas\u001b[39m.\u001b[39;49mfigure)\n\u001b[0;32m     44\u001b[0m         )\n\u001b[0;32m     45\u001b[0m \u001b[39mfinally\u001b[39;00m:\n\u001b[0;32m     46\u001b[0m     show\u001b[39m.\u001b[39m_to_draw \u001b[39m=\u001b[39m []\n",
            "File \u001b[1;32mc:\\Users\\spoky\\miniconda3\\envs\\boolean\\lib\\site-packages\\IPython\\core\\display_functions.py:298\u001b[0m, in \u001b[0;36mdisplay\u001b[1;34m(include, exclude, metadata, transient, display_id, raw, clear, *objs, **kwargs)\u001b[0m\n\u001b[0;32m    296\u001b[0m     publish_display_data(data\u001b[39m=\u001b[39mobj, metadata\u001b[39m=\u001b[39mmetadata, \u001b[39m*\u001b[39m\u001b[39m*\u001b[39mkwargs)\n\u001b[0;32m    297\u001b[0m \u001b[39melse\u001b[39;00m:\n\u001b[1;32m--> 298\u001b[0m     format_dict, md_dict \u001b[39m=\u001b[39m \u001b[39mformat\u001b[39;49m(obj, include\u001b[39m=\u001b[39;49minclude, exclude\u001b[39m=\u001b[39;49mexclude)\n\u001b[0;32m    299\u001b[0m     \u001b[39mif\u001b[39;00m \u001b[39mnot\u001b[39;00m format_dict:\n\u001b[0;32m    300\u001b[0m         \u001b[39m# nothing to display (e.g. _ipython_display_ took over)\u001b[39;00m\n\u001b[0;32m    301\u001b[0m         \u001b[39mcontinue\u001b[39;00m\n",
            "File \u001b[1;32mc:\\Users\\spoky\\miniconda3\\envs\\boolean\\lib\\site-packages\\IPython\\core\\formatters.py:178\u001b[0m, in \u001b[0;36mDisplayFormatter.format\u001b[1;34m(self, obj, include, exclude)\u001b[0m\n\u001b[0;32m    176\u001b[0m md \u001b[39m=\u001b[39m \u001b[39mNone\u001b[39;00m\n\u001b[0;32m    177\u001b[0m \u001b[39mtry\u001b[39;00m:\n\u001b[1;32m--> 178\u001b[0m     data \u001b[39m=\u001b[39m formatter(obj)\n\u001b[0;32m    179\u001b[0m \u001b[39mexcept\u001b[39;00m:\n\u001b[0;32m    180\u001b[0m     \u001b[39m# FIXME: log the exception\u001b[39;00m\n\u001b[0;32m    181\u001b[0m     \u001b[39mraise\u001b[39;00m\n",
            "File \u001b[1;32mc:\\Users\\spoky\\miniconda3\\envs\\boolean\\lib\\site-packages\\decorator.py:232\u001b[0m, in \u001b[0;36mdecorate.<locals>.fun\u001b[1;34m(*args, **kw)\u001b[0m\n\u001b[0;32m    230\u001b[0m \u001b[39mif\u001b[39;00m \u001b[39mnot\u001b[39;00m kwsyntax:\n\u001b[0;32m    231\u001b[0m     args, kw \u001b[39m=\u001b[39m fix(args, kw, sig)\n\u001b[1;32m--> 232\u001b[0m \u001b[39mreturn\u001b[39;00m caller(func, \u001b[39m*\u001b[39m(extras \u001b[39m+\u001b[39m args), \u001b[39m*\u001b[39m\u001b[39m*\u001b[39mkw)\n",
            "File \u001b[1;32mc:\\Users\\spoky\\miniconda3\\envs\\boolean\\lib\\site-packages\\IPython\\core\\formatters.py:222\u001b[0m, in \u001b[0;36mcatch_format_error\u001b[1;34m(method, self, *args, **kwargs)\u001b[0m\n\u001b[0;32m    220\u001b[0m \u001b[39m\"\"\"show traceback on failed format call\"\"\"\u001b[39;00m\n\u001b[0;32m    221\u001b[0m \u001b[39mtry\u001b[39;00m:\n\u001b[1;32m--> 222\u001b[0m     r \u001b[39m=\u001b[39m method(\u001b[39mself\u001b[39m, \u001b[39m*\u001b[39margs, \u001b[39m*\u001b[39m\u001b[39m*\u001b[39mkwargs)\n\u001b[0;32m    223\u001b[0m \u001b[39mexcept\u001b[39;00m \u001b[39mNotImplementedError\u001b[39;00m:\n\u001b[0;32m    224\u001b[0m     \u001b[39m# don't warn on NotImplementedErrors\u001b[39;00m\n\u001b[0;32m    225\u001b[0m     \u001b[39mreturn\u001b[39;00m \u001b[39mself\u001b[39m\u001b[39m.\u001b[39m_check_return(\u001b[39mNone\u001b[39;00m, args[\u001b[39m0\u001b[39m])\n",
            "File \u001b[1;32mc:\\Users\\spoky\\miniconda3\\envs\\boolean\\lib\\site-packages\\IPython\\core\\formatters.py:339\u001b[0m, in \u001b[0;36mBaseFormatter.__call__\u001b[1;34m(self, obj)\u001b[0m\n\u001b[0;32m    337\u001b[0m     \u001b[39mpass\u001b[39;00m\n\u001b[0;32m    338\u001b[0m \u001b[39melse\u001b[39;00m:\n\u001b[1;32m--> 339\u001b[0m     \u001b[39mreturn\u001b[39;00m printer(obj)\n\u001b[0;32m    340\u001b[0m \u001b[39m# Finally look for special method names\u001b[39;00m\n\u001b[0;32m    341\u001b[0m method \u001b[39m=\u001b[39m get_real_method(obj, \u001b[39mself\u001b[39m\u001b[39m.\u001b[39mprint_method)\n",
            "File \u001b[1;32mc:\\Users\\spoky\\miniconda3\\envs\\boolean\\lib\\site-packages\\IPython\\core\\pylabtools.py:151\u001b[0m, in \u001b[0;36mprint_figure\u001b[1;34m(fig, fmt, bbox_inches, base64, **kwargs)\u001b[0m\n\u001b[0;32m    148\u001b[0m     \u001b[39mfrom\u001b[39;00m \u001b[39mmatplotlib\u001b[39;00m\u001b[39m.\u001b[39;00m\u001b[39mbackend_bases\u001b[39;00m \u001b[39mimport\u001b[39;00m FigureCanvasBase\n\u001b[0;32m    149\u001b[0m     FigureCanvasBase(fig)\n\u001b[1;32m--> 151\u001b[0m fig\u001b[39m.\u001b[39mcanvas\u001b[39m.\u001b[39mprint_figure(bytes_io, \u001b[39m*\u001b[39m\u001b[39m*\u001b[39mkw)\n\u001b[0;32m    152\u001b[0m data \u001b[39m=\u001b[39m bytes_io\u001b[39m.\u001b[39mgetvalue()\n\u001b[0;32m    153\u001b[0m \u001b[39mif\u001b[39;00m fmt \u001b[39m==\u001b[39m \u001b[39m'\u001b[39m\u001b[39msvg\u001b[39m\u001b[39m'\u001b[39m:\n",
            "File \u001b[1;32mc:\\Users\\spoky\\miniconda3\\envs\\boolean\\lib\\site-packages\\matplotlib\\backend_bases.py:2319\u001b[0m, in \u001b[0;36mFigureCanvasBase.print_figure\u001b[1;34m(self, filename, dpi, facecolor, edgecolor, orientation, format, bbox_inches, pad_inches, bbox_extra_artists, backend, **kwargs)\u001b[0m\n\u001b[0;32m   2315\u001b[0m \u001b[39mtry\u001b[39;00m:\n\u001b[0;32m   2316\u001b[0m     \u001b[39m# _get_renderer may change the figure dpi (as vector formats\u001b[39;00m\n\u001b[0;32m   2317\u001b[0m     \u001b[39m# force the figure dpi to 72), so we need to set it again here.\u001b[39;00m\n\u001b[0;32m   2318\u001b[0m     \u001b[39mwith\u001b[39;00m cbook\u001b[39m.\u001b[39m_setattr_cm(\u001b[39mself\u001b[39m\u001b[39m.\u001b[39mfigure, dpi\u001b[39m=\u001b[39mdpi):\n\u001b[1;32m-> 2319\u001b[0m         result \u001b[39m=\u001b[39m print_method(\n\u001b[0;32m   2320\u001b[0m             filename,\n\u001b[0;32m   2321\u001b[0m             facecolor\u001b[39m=\u001b[39mfacecolor,\n\u001b[0;32m   2322\u001b[0m             edgecolor\u001b[39m=\u001b[39medgecolor,\n\u001b[0;32m   2323\u001b[0m             orientation\u001b[39m=\u001b[39morientation,\n\u001b[0;32m   2324\u001b[0m             bbox_inches_restore\u001b[39m=\u001b[39m_bbox_inches_restore,\n\u001b[0;32m   2325\u001b[0m             \u001b[39m*\u001b[39m\u001b[39m*\u001b[39mkwargs)\n\u001b[0;32m   2326\u001b[0m \u001b[39mfinally\u001b[39;00m:\n\u001b[0;32m   2327\u001b[0m     \u001b[39mif\u001b[39;00m bbox_inches \u001b[39mand\u001b[39;00m restore_bbox:\n",
            "File \u001b[1;32mc:\\Users\\spoky\\miniconda3\\envs\\boolean\\lib\\site-packages\\matplotlib\\backend_bases.py:1648\u001b[0m, in \u001b[0;36m_check_savefig_extra_args.<locals>.wrapper\u001b[1;34m(*args, **kwargs)\u001b[0m\n\u001b[0;32m   1640\u001b[0m     _api\u001b[39m.\u001b[39mwarn_deprecated(\n\u001b[0;32m   1641\u001b[0m         \u001b[39m'\u001b[39m\u001b[39m3.3\u001b[39m\u001b[39m'\u001b[39m, name\u001b[39m=\u001b[39mname, removal\u001b[39m=\u001b[39m\u001b[39m'\u001b[39m\u001b[39m3.6\u001b[39m\u001b[39m'\u001b[39m,\n\u001b[0;32m   1642\u001b[0m         message\u001b[39m=\u001b[39m\u001b[39m'\u001b[39m\u001b[39m%(name)s\u001b[39;00m\u001b[39m() got unexpected keyword argument \u001b[39m\u001b[39m\"\u001b[39m\u001b[39m'\u001b[39m\n\u001b[0;32m   1643\u001b[0m                 \u001b[39m+\u001b[39m arg \u001b[39m+\u001b[39m \u001b[39m'\u001b[39m\u001b[39m\"\u001b[39m\u001b[39m which is no longer supported as of \u001b[39m\u001b[39m'\u001b[39m\n\u001b[0;32m   1644\u001b[0m                 \u001b[39m'\u001b[39m\u001b[39m%(since)s\u001b[39;00m\u001b[39m and will become an error \u001b[39m\u001b[39m'\u001b[39m\n\u001b[0;32m   1645\u001b[0m                 \u001b[39m'\u001b[39m\u001b[39m%(removal)s\u001b[39;00m\u001b[39m'\u001b[39m)\n\u001b[0;32m   1646\u001b[0m     kwargs\u001b[39m.\u001b[39mpop(arg)\n\u001b[1;32m-> 1648\u001b[0m \u001b[39mreturn\u001b[39;00m func(\u001b[39m*\u001b[39margs, \u001b[39m*\u001b[39m\u001b[39m*\u001b[39mkwargs)\n",
            "File \u001b[1;32mc:\\Users\\spoky\\miniconda3\\envs\\boolean\\lib\\site-packages\\matplotlib\\_api\\deprecation.py:415\u001b[0m, in \u001b[0;36mdelete_parameter.<locals>.wrapper\u001b[1;34m(*inner_args, **inner_kwargs)\u001b[0m\n\u001b[0;32m    405\u001b[0m     deprecation_addendum \u001b[39m=\u001b[39m (\n\u001b[0;32m    406\u001b[0m         \u001b[39mf\u001b[39m\u001b[39m\"\u001b[39m\u001b[39mIf any parameter follows \u001b[39m\u001b[39m{\u001b[39;00mname\u001b[39m!r}\u001b[39;00m\u001b[39m, they should be passed as \u001b[39m\u001b[39m\"\u001b[39m\n\u001b[0;32m    407\u001b[0m         \u001b[39mf\u001b[39m\u001b[39m\"\u001b[39m\u001b[39mkeyword, not positionally.\u001b[39m\u001b[39m\"\u001b[39m)\n\u001b[0;32m    408\u001b[0m     warn_deprecated(\n\u001b[0;32m    409\u001b[0m         since,\n\u001b[0;32m    410\u001b[0m         name\u001b[39m=\u001b[39m\u001b[39mrepr\u001b[39m(name),\n\u001b[1;32m   (...)\u001b[0m\n\u001b[0;32m    413\u001b[0m                  \u001b[39melse\u001b[39;00m deprecation_addendum,\n\u001b[0;32m    414\u001b[0m         \u001b[39m*\u001b[39m\u001b[39m*\u001b[39mkwargs)\n\u001b[1;32m--> 415\u001b[0m \u001b[39mreturn\u001b[39;00m func(\u001b[39m*\u001b[39minner_args, \u001b[39m*\u001b[39m\u001b[39m*\u001b[39minner_kwargs)\n",
            "File \u001b[1;32mc:\\Users\\spoky\\miniconda3\\envs\\boolean\\lib\\site-packages\\matplotlib\\backends\\backend_agg.py:540\u001b[0m, in \u001b[0;36mFigureCanvasAgg.print_png\u001b[1;34m(self, filename_or_obj, metadata, pil_kwargs, *args)\u001b[0m\n\u001b[0;32m    490\u001b[0m \u001b[39m@_check_savefig_extra_args\u001b[39m\n\u001b[0;32m    491\u001b[0m \u001b[39m@_api\u001b[39m\u001b[39m.\u001b[39mdelete_parameter(\u001b[39m\"\u001b[39m\u001b[39m3.5\u001b[39m\u001b[39m\"\u001b[39m, \u001b[39m\"\u001b[39m\u001b[39margs\u001b[39m\u001b[39m\"\u001b[39m)\n\u001b[0;32m    492\u001b[0m \u001b[39mdef\u001b[39;00m \u001b[39mprint_png\u001b[39m(\u001b[39mself\u001b[39m, filename_or_obj, \u001b[39m*\u001b[39margs,\n\u001b[0;32m    493\u001b[0m               metadata\u001b[39m=\u001b[39m\u001b[39mNone\u001b[39;00m, pil_kwargs\u001b[39m=\u001b[39m\u001b[39mNone\u001b[39;00m):\n\u001b[0;32m    494\u001b[0m     \u001b[39m\"\"\"\u001b[39;00m\n\u001b[0;32m    495\u001b[0m \u001b[39m    Write the figure to a PNG file.\u001b[39;00m\n\u001b[0;32m    496\u001b[0m \n\u001b[1;32m   (...)\u001b[0m\n\u001b[0;32m    538\u001b[0m \u001b[39m        *metadata*, including the default 'Software' key.\u001b[39;00m\n\u001b[0;32m    539\u001b[0m \u001b[39m    \"\"\"\u001b[39;00m\n\u001b[1;32m--> 540\u001b[0m     FigureCanvasAgg\u001b[39m.\u001b[39;49mdraw(\u001b[39mself\u001b[39;49m)\n\u001b[0;32m    541\u001b[0m     mpl\u001b[39m.\u001b[39mimage\u001b[39m.\u001b[39mimsave(\n\u001b[0;32m    542\u001b[0m         filename_or_obj, \u001b[39mself\u001b[39m\u001b[39m.\u001b[39mbuffer_rgba(), \u001b[39mformat\u001b[39m\u001b[39m=\u001b[39m\u001b[39m\"\u001b[39m\u001b[39mpng\u001b[39m\u001b[39m\"\u001b[39m, origin\u001b[39m=\u001b[39m\u001b[39m\"\u001b[39m\u001b[39mupper\u001b[39m\u001b[39m\"\u001b[39m,\n\u001b[0;32m    543\u001b[0m         dpi\u001b[39m=\u001b[39m\u001b[39mself\u001b[39m\u001b[39m.\u001b[39mfigure\u001b[39m.\u001b[39mdpi, metadata\u001b[39m=\u001b[39mmetadata, pil_kwargs\u001b[39m=\u001b[39mpil_kwargs)\n",
            "File \u001b[1;32mc:\\Users\\spoky\\miniconda3\\envs\\boolean\\lib\\site-packages\\matplotlib\\backends\\backend_agg.py:436\u001b[0m, in \u001b[0;36mFigureCanvasAgg.draw\u001b[1;34m(self)\u001b[0m\n\u001b[0;32m    432\u001b[0m \u001b[39m# Acquire a lock on the shared font cache.\u001b[39;00m\n\u001b[0;32m    433\u001b[0m \u001b[39mwith\u001b[39;00m RendererAgg\u001b[39m.\u001b[39mlock, \\\n\u001b[0;32m    434\u001b[0m      (\u001b[39mself\u001b[39m\u001b[39m.\u001b[39mtoolbar\u001b[39m.\u001b[39m_wait_cursor_for_draw_cm() \u001b[39mif\u001b[39;00m \u001b[39mself\u001b[39m\u001b[39m.\u001b[39mtoolbar\n\u001b[0;32m    435\u001b[0m       \u001b[39melse\u001b[39;00m nullcontext()):\n\u001b[1;32m--> 436\u001b[0m     \u001b[39mself\u001b[39;49m\u001b[39m.\u001b[39;49mfigure\u001b[39m.\u001b[39;49mdraw(\u001b[39mself\u001b[39;49m\u001b[39m.\u001b[39;49mrenderer)\n\u001b[0;32m    437\u001b[0m     \u001b[39m# A GUI class may be need to update a window using this draw, so\u001b[39;00m\n\u001b[0;32m    438\u001b[0m     \u001b[39m# don't forget to call the superclass.\u001b[39;00m\n\u001b[0;32m    439\u001b[0m     \u001b[39msuper\u001b[39m()\u001b[39m.\u001b[39mdraw()\n",
            "File \u001b[1;32mc:\\Users\\spoky\\miniconda3\\envs\\boolean\\lib\\site-packages\\matplotlib\\artist.py:74\u001b[0m, in \u001b[0;36m_finalize_rasterization.<locals>.draw_wrapper\u001b[1;34m(artist, renderer, *args, **kwargs)\u001b[0m\n\u001b[0;32m     72\u001b[0m \u001b[39m@wraps\u001b[39m(draw)\n\u001b[0;32m     73\u001b[0m \u001b[39mdef\u001b[39;00m \u001b[39mdraw_wrapper\u001b[39m(artist, renderer, \u001b[39m*\u001b[39margs, \u001b[39m*\u001b[39m\u001b[39m*\u001b[39mkwargs):\n\u001b[1;32m---> 74\u001b[0m     result \u001b[39m=\u001b[39m draw(artist, renderer, \u001b[39m*\u001b[39margs, \u001b[39m*\u001b[39m\u001b[39m*\u001b[39mkwargs)\n\u001b[0;32m     75\u001b[0m     \u001b[39mif\u001b[39;00m renderer\u001b[39m.\u001b[39m_rasterizing:\n\u001b[0;32m     76\u001b[0m         renderer\u001b[39m.\u001b[39mstop_rasterizing()\n",
            "File \u001b[1;32mc:\\Users\\spoky\\miniconda3\\envs\\boolean\\lib\\site-packages\\matplotlib\\artist.py:51\u001b[0m, in \u001b[0;36mallow_rasterization.<locals>.draw_wrapper\u001b[1;34m(artist, renderer)\u001b[0m\n\u001b[0;32m     48\u001b[0m     \u001b[39mif\u001b[39;00m artist\u001b[39m.\u001b[39mget_agg_filter() \u001b[39mis\u001b[39;00m \u001b[39mnot\u001b[39;00m \u001b[39mNone\u001b[39;00m:\n\u001b[0;32m     49\u001b[0m         renderer\u001b[39m.\u001b[39mstart_filter()\n\u001b[1;32m---> 51\u001b[0m     \u001b[39mreturn\u001b[39;00m draw(artist, renderer)\n\u001b[0;32m     52\u001b[0m \u001b[39mfinally\u001b[39;00m:\n\u001b[0;32m     53\u001b[0m     \u001b[39mif\u001b[39;00m artist\u001b[39m.\u001b[39mget_agg_filter() \u001b[39mis\u001b[39;00m \u001b[39mnot\u001b[39;00m \u001b[39mNone\u001b[39;00m:\n",
            "File \u001b[1;32mc:\\Users\\spoky\\miniconda3\\envs\\boolean\\lib\\site-packages\\matplotlib\\figure.py:2845\u001b[0m, in \u001b[0;36mFigure.draw\u001b[1;34m(self, renderer)\u001b[0m\n\u001b[0;32m   2842\u001b[0m         \u001b[39m# ValueError can occur when resizing a window.\u001b[39;00m\n\u001b[0;32m   2844\u001b[0m \u001b[39mself\u001b[39m\u001b[39m.\u001b[39mpatch\u001b[39m.\u001b[39mdraw(renderer)\n\u001b[1;32m-> 2845\u001b[0m mimage\u001b[39m.\u001b[39;49m_draw_list_compositing_images(\n\u001b[0;32m   2846\u001b[0m     renderer, \u001b[39mself\u001b[39;49m, artists, \u001b[39mself\u001b[39;49m\u001b[39m.\u001b[39;49msuppressComposite)\n\u001b[0;32m   2848\u001b[0m \u001b[39mfor\u001b[39;00m sfig \u001b[39min\u001b[39;00m \u001b[39mself\u001b[39m\u001b[39m.\u001b[39msubfigs:\n\u001b[0;32m   2849\u001b[0m     sfig\u001b[39m.\u001b[39mdraw(renderer)\n",
            "File \u001b[1;32mc:\\Users\\spoky\\miniconda3\\envs\\boolean\\lib\\site-packages\\matplotlib\\image.py:132\u001b[0m, in \u001b[0;36m_draw_list_compositing_images\u001b[1;34m(renderer, parent, artists, suppress_composite)\u001b[0m\n\u001b[0;32m    130\u001b[0m \u001b[39mif\u001b[39;00m not_composite \u001b[39mor\u001b[39;00m \u001b[39mnot\u001b[39;00m has_images:\n\u001b[0;32m    131\u001b[0m     \u001b[39mfor\u001b[39;00m a \u001b[39min\u001b[39;00m artists:\n\u001b[1;32m--> 132\u001b[0m         a\u001b[39m.\u001b[39;49mdraw(renderer)\n\u001b[0;32m    133\u001b[0m \u001b[39melse\u001b[39;00m:\n\u001b[0;32m    134\u001b[0m     \u001b[39m# Composite any adjacent images together\u001b[39;00m\n\u001b[0;32m    135\u001b[0m     image_group \u001b[39m=\u001b[39m []\n",
            "File \u001b[1;32mc:\\Users\\spoky\\miniconda3\\envs\\boolean\\lib\\site-packages\\matplotlib\\artist.py:51\u001b[0m, in \u001b[0;36mallow_rasterization.<locals>.draw_wrapper\u001b[1;34m(artist, renderer)\u001b[0m\n\u001b[0;32m     48\u001b[0m     \u001b[39mif\u001b[39;00m artist\u001b[39m.\u001b[39mget_agg_filter() \u001b[39mis\u001b[39;00m \u001b[39mnot\u001b[39;00m \u001b[39mNone\u001b[39;00m:\n\u001b[0;32m     49\u001b[0m         renderer\u001b[39m.\u001b[39mstart_filter()\n\u001b[1;32m---> 51\u001b[0m     \u001b[39mreturn\u001b[39;00m draw(artist, renderer)\n\u001b[0;32m     52\u001b[0m \u001b[39mfinally\u001b[39;00m:\n\u001b[0;32m     53\u001b[0m     \u001b[39mif\u001b[39;00m artist\u001b[39m.\u001b[39mget_agg_filter() \u001b[39mis\u001b[39;00m \u001b[39mnot\u001b[39;00m \u001b[39mNone\u001b[39;00m:\n",
            "File \u001b[1;32mc:\\Users\\spoky\\miniconda3\\envs\\boolean\\lib\\site-packages\\matplotlib\\axes\\_base.py:3091\u001b[0m, in \u001b[0;36m_AxesBase.draw\u001b[1;34m(self, renderer)\u001b[0m\n\u001b[0;32m   3088\u001b[0m         a\u001b[39m.\u001b[39mdraw(renderer)\n\u001b[0;32m   3089\u001b[0m     renderer\u001b[39m.\u001b[39mstop_rasterizing()\n\u001b[1;32m-> 3091\u001b[0m mimage\u001b[39m.\u001b[39;49m_draw_list_compositing_images(\n\u001b[0;32m   3092\u001b[0m     renderer, \u001b[39mself\u001b[39;49m, artists, \u001b[39mself\u001b[39;49m\u001b[39m.\u001b[39;49mfigure\u001b[39m.\u001b[39;49msuppressComposite)\n\u001b[0;32m   3094\u001b[0m renderer\u001b[39m.\u001b[39mclose_group(\u001b[39m'\u001b[39m\u001b[39maxes\u001b[39m\u001b[39m'\u001b[39m)\n\u001b[0;32m   3095\u001b[0m \u001b[39mself\u001b[39m\u001b[39m.\u001b[39mstale \u001b[39m=\u001b[39m \u001b[39mFalse\u001b[39;00m\n",
            "File \u001b[1;32mc:\\Users\\spoky\\miniconda3\\envs\\boolean\\lib\\site-packages\\matplotlib\\image.py:132\u001b[0m, in \u001b[0;36m_draw_list_compositing_images\u001b[1;34m(renderer, parent, artists, suppress_composite)\u001b[0m\n\u001b[0;32m    130\u001b[0m \u001b[39mif\u001b[39;00m not_composite \u001b[39mor\u001b[39;00m \u001b[39mnot\u001b[39;00m has_images:\n\u001b[0;32m    131\u001b[0m     \u001b[39mfor\u001b[39;00m a \u001b[39min\u001b[39;00m artists:\n\u001b[1;32m--> 132\u001b[0m         a\u001b[39m.\u001b[39;49mdraw(renderer)\n\u001b[0;32m    133\u001b[0m \u001b[39melse\u001b[39;00m:\n\u001b[0;32m    134\u001b[0m     \u001b[39m# Composite any adjacent images together\u001b[39;00m\n\u001b[0;32m    135\u001b[0m     image_group \u001b[39m=\u001b[39m []\n",
            "File \u001b[1;32mc:\\Users\\spoky\\miniconda3\\envs\\boolean\\lib\\site-packages\\matplotlib\\artist.py:51\u001b[0m, in \u001b[0;36mallow_rasterization.<locals>.draw_wrapper\u001b[1;34m(artist, renderer)\u001b[0m\n\u001b[0;32m     48\u001b[0m     \u001b[39mif\u001b[39;00m artist\u001b[39m.\u001b[39mget_agg_filter() \u001b[39mis\u001b[39;00m \u001b[39mnot\u001b[39;00m \u001b[39mNone\u001b[39;00m:\n\u001b[0;32m     49\u001b[0m         renderer\u001b[39m.\u001b[39mstart_filter()\n\u001b[1;32m---> 51\u001b[0m     \u001b[39mreturn\u001b[39;00m draw(artist, renderer)\n\u001b[0;32m     52\u001b[0m \u001b[39mfinally\u001b[39;00m:\n\u001b[0;32m     53\u001b[0m     \u001b[39mif\u001b[39;00m artist\u001b[39m.\u001b[39mget_agg_filter() \u001b[39mis\u001b[39;00m \u001b[39mnot\u001b[39;00m \u001b[39mNone\u001b[39;00m:\n",
            "File \u001b[1;32mc:\\Users\\spoky\\miniconda3\\envs\\boolean\\lib\\site-packages\\matplotlib\\collections.py:990\u001b[0m, in \u001b[0;36m_CollectionWithSizes.draw\u001b[1;34m(self, renderer)\u001b[0m\n\u001b[0;32m    987\u001b[0m \u001b[39m@artist\u001b[39m\u001b[39m.\u001b[39mallow_rasterization\n\u001b[0;32m    988\u001b[0m \u001b[39mdef\u001b[39;00m \u001b[39mdraw\u001b[39m(\u001b[39mself\u001b[39m, renderer):\n\u001b[0;32m    989\u001b[0m     \u001b[39mself\u001b[39m\u001b[39m.\u001b[39mset_sizes(\u001b[39mself\u001b[39m\u001b[39m.\u001b[39m_sizes, \u001b[39mself\u001b[39m\u001b[39m.\u001b[39mfigure\u001b[39m.\u001b[39mdpi)\n\u001b[1;32m--> 990\u001b[0m     \u001b[39msuper\u001b[39;49m()\u001b[39m.\u001b[39;49mdraw(renderer)\n",
            "File \u001b[1;32mc:\\Users\\spoky\\miniconda3\\envs\\boolean\\lib\\site-packages\\matplotlib\\artist.py:51\u001b[0m, in \u001b[0;36mallow_rasterization.<locals>.draw_wrapper\u001b[1;34m(artist, renderer)\u001b[0m\n\u001b[0;32m     48\u001b[0m     \u001b[39mif\u001b[39;00m artist\u001b[39m.\u001b[39mget_agg_filter() \u001b[39mis\u001b[39;00m \u001b[39mnot\u001b[39;00m \u001b[39mNone\u001b[39;00m:\n\u001b[0;32m     49\u001b[0m         renderer\u001b[39m.\u001b[39mstart_filter()\n\u001b[1;32m---> 51\u001b[0m     \u001b[39mreturn\u001b[39;00m draw(artist, renderer)\n\u001b[0;32m     52\u001b[0m \u001b[39mfinally\u001b[39;00m:\n\u001b[0;32m     53\u001b[0m     \u001b[39mif\u001b[39;00m artist\u001b[39m.\u001b[39mget_agg_filter() \u001b[39mis\u001b[39;00m \u001b[39mnot\u001b[39;00m \u001b[39mNone\u001b[39;00m:\n",
            "File \u001b[1;32mc:\\Users\\spoky\\miniconda3\\envs\\boolean\\lib\\site-packages\\matplotlib\\collections.py:424\u001b[0m, in \u001b[0;36mCollection.draw\u001b[1;34m(self, renderer)\u001b[0m\n\u001b[0;32m    420\u001b[0m     renderer\u001b[39m.\u001b[39mdraw_markers(\n\u001b[0;32m    421\u001b[0m         gc, paths[\u001b[39m0\u001b[39m], combined_transform\u001b[39m.\u001b[39mfrozen(),\n\u001b[0;32m    422\u001b[0m         mpath\u001b[39m.\u001b[39mPath(offsets), transOffset, \u001b[39mtuple\u001b[39m(facecolors[\u001b[39m0\u001b[39m]))\n\u001b[0;32m    423\u001b[0m \u001b[39melse\u001b[39;00m:\n\u001b[1;32m--> 424\u001b[0m     renderer\u001b[39m.\u001b[39;49mdraw_path_collection(\n\u001b[0;32m    425\u001b[0m         gc, transform\u001b[39m.\u001b[39;49mfrozen(), paths,\n\u001b[0;32m    426\u001b[0m         \u001b[39mself\u001b[39;49m\u001b[39m.\u001b[39;49mget_transforms(), offsets, transOffset,\n\u001b[0;32m    427\u001b[0m         \u001b[39mself\u001b[39;49m\u001b[39m.\u001b[39;49mget_facecolor(), \u001b[39mself\u001b[39;49m\u001b[39m.\u001b[39;49mget_edgecolor(),\n\u001b[0;32m    428\u001b[0m         \u001b[39mself\u001b[39;49m\u001b[39m.\u001b[39;49m_linewidths, \u001b[39mself\u001b[39;49m\u001b[39m.\u001b[39;49m_linestyles,\n\u001b[0;32m    429\u001b[0m         \u001b[39mself\u001b[39;49m\u001b[39m.\u001b[39;49m_antialiaseds, \u001b[39mself\u001b[39;49m\u001b[39m.\u001b[39;49m_urls,\n\u001b[0;32m    430\u001b[0m         \u001b[39mself\u001b[39;49m\u001b[39m.\u001b[39;49m_offset_position)\n\u001b[0;32m    432\u001b[0m gc\u001b[39m.\u001b[39mrestore()\n\u001b[0;32m    433\u001b[0m renderer\u001b[39m.\u001b[39mclose_group(\u001b[39mself\u001b[39m\u001b[39m.\u001b[39m\u001b[39m__class__\u001b[39m\u001b[39m.\u001b[39m\u001b[39m__name__\u001b[39m)\n",
            "File \u001b[1;32mc:\\Users\\spoky\\miniconda3\\envs\\boolean\\lib\\site-packages\\matplotlib\\path.py:200\u001b[0m, in \u001b[0;36mPath.vertices\u001b[1;34m(self)\u001b[0m\n\u001b[0;32m    192\u001b[0m     \u001b[39mself\u001b[39m\u001b[39m.\u001b[39m_simplify_threshold \u001b[39m=\u001b[39m mpl\u001b[39m.\u001b[39mrcParams[\u001b[39m'\u001b[39m\u001b[39mpath.simplify_threshold\u001b[39m\u001b[39m'\u001b[39m]\n\u001b[0;32m    193\u001b[0m     \u001b[39mself\u001b[39m\u001b[39m.\u001b[39m_should_simplify \u001b[39m=\u001b[39m (\n\u001b[0;32m    194\u001b[0m         \u001b[39mself\u001b[39m\u001b[39m.\u001b[39m_simplify_threshold \u001b[39m>\u001b[39m \u001b[39m0\u001b[39m \u001b[39mand\u001b[39;00m\n\u001b[0;32m    195\u001b[0m         mpl\u001b[39m.\u001b[39mrcParams[\u001b[39m'\u001b[39m\u001b[39mpath.simplify\u001b[39m\u001b[39m'\u001b[39m] \u001b[39mand\u001b[39;00m\n\u001b[0;32m    196\u001b[0m         \u001b[39mlen\u001b[39m(\u001b[39mself\u001b[39m\u001b[39m.\u001b[39m_vertices) \u001b[39m>\u001b[39m\u001b[39m=\u001b[39m \u001b[39m128\u001b[39m \u001b[39mand\u001b[39;00m\n\u001b[0;32m    197\u001b[0m         (\u001b[39mself\u001b[39m\u001b[39m.\u001b[39m_codes \u001b[39mis\u001b[39;00m \u001b[39mNone\u001b[39;00m \u001b[39mor\u001b[39;00m np\u001b[39m.\u001b[39mall(\u001b[39mself\u001b[39m\u001b[39m.\u001b[39m_codes \u001b[39m<\u001b[39m\u001b[39m=\u001b[39m Path\u001b[39m.\u001b[39mLINETO))\n\u001b[0;32m    198\u001b[0m     )\n\u001b[1;32m--> 200\u001b[0m \u001b[39m@property\u001b[39m\n\u001b[0;32m    201\u001b[0m \u001b[39mdef\u001b[39;00m \u001b[39mvertices\u001b[39m(\u001b[39mself\u001b[39m):\n\u001b[0;32m    202\u001b[0m     \u001b[39m\"\"\"\u001b[39;00m\n\u001b[0;32m    203\u001b[0m \u001b[39m    The list of vertices in the `Path` as an Nx2 numpy array.\u001b[39;00m\n\u001b[0;32m    204\u001b[0m \u001b[39m    \"\"\"\u001b[39;00m\n\u001b[0;32m    205\u001b[0m     \u001b[39mreturn\u001b[39;00m \u001b[39mself\u001b[39m\u001b[39m.\u001b[39m_vertices\n",
            "\u001b[1;31mKeyboardInterrupt\u001b[0m: "
          ]
        }
      ],
      "source": [
        "sns.pairplot(olympics[['Age', 'Height', 'Weight', 'Sex']], hue='Sex')"
      ]
    },
    {
      "cell_type": "markdown",
      "metadata": {
        "id": "iRQru2KlhIl2"
      },
      "source": [
        "### 27. Print out the correlation matrix of `Age`, `Height`, `Weight`"
      ]
    },
    {
      "cell_type": "code",
      "execution_count": null,
      "metadata": {
        "id": "_hMhwxk3hIl2",
        "outputId": "d8e0b1e6-f8d8-405f-9f09-dcacee09d8ec"
      },
      "outputs": [
        {
          "data": {
            "text/html": [
              "<div>\n",
              "<style scoped>\n",
              "    .dataframe tbody tr th:only-of-type {\n",
              "        vertical-align: middle;\n",
              "    }\n",
              "\n",
              "    .dataframe tbody tr th {\n",
              "        vertical-align: top;\n",
              "    }\n",
              "\n",
              "    .dataframe thead th {\n",
              "        text-align: right;\n",
              "    }\n",
              "</style>\n",
              "<table border=\"1\" class=\"dataframe\">\n",
              "  <thead>\n",
              "    <tr style=\"text-align: right;\">\n",
              "      <th></th>\n",
              "      <th>Age</th>\n",
              "      <th>Height</th>\n",
              "      <th>Weight</th>\n",
              "    </tr>\n",
              "  </thead>\n",
              "  <tbody>\n",
              "    <tr>\n",
              "      <th>Age</th>\n",
              "      <td>1.000000</td>\n",
              "      <td>0.161797</td>\n",
              "      <td>0.264409</td>\n",
              "    </tr>\n",
              "    <tr>\n",
              "      <th>Height</th>\n",
              "      <td>0.161797</td>\n",
              "      <td>1.000000</td>\n",
              "      <td>0.799258</td>\n",
              "    </tr>\n",
              "    <tr>\n",
              "      <th>Weight</th>\n",
              "      <td>0.264409</td>\n",
              "      <td>0.799258</td>\n",
              "      <td>1.000000</td>\n",
              "    </tr>\n",
              "  </tbody>\n",
              "</table>\n",
              "</div>"
            ],
            "text/plain": [
              "             Age    Height    Weight\n",
              "Age     1.000000  0.161797  0.264409\n",
              "Height  0.161797  1.000000  0.799258\n",
              "Weight  0.264409  0.799258  1.000000"
            ]
          },
          "execution_count": 40,
          "metadata": {},
          "output_type": "execute_result"
        }
      ],
      "source": [
        "olympics[['Age', 'Height', 'Weight']].corr()"
      ]
    },
    {
      "cell_type": "markdown",
      "metadata": {
        "id": "ggBUEjhChIl2"
      },
      "source": [
        "Notice the strong positive relationship between `Height` and `Weight`, which is intuitive."
      ]
    },
    {
      "cell_type": "markdown",
      "metadata": {
        "id": "PD27u5LkhIl2"
      },
      "source": [
        "### 28. Use heatmap to demonstrate the correlation matrix of `Age`, `Height`, `Weight`, use a colormap (`cmap`) of 'crest'"
      ]
    },
    {
      "cell_type": "code",
      "execution_count": null,
      "metadata": {
        "id": "rMPhPw-fhIl3",
        "outputId": "9252332a-1c07-4269-c79c-7be075cb9426"
      },
      "outputs": [
        {
          "data": {
            "text/plain": [
              "<AxesSubplot:>"
            ]
          },
          "execution_count": 41,
          "metadata": {},
          "output_type": "execute_result"
        },
        {
          "data": {
            "image/png": "[encoded data removed]",
            "text/plain": [
              "<Figure size 432x288 with 2 Axes>"
            ]
          },
          "metadata": {
            "needs_background": "light"
          },
          "output_type": "display_data"
        }
      ],
      "source": [
        "sns.heatmap(olympics[['Age', 'Height', 'Weight']].corr(), cmap='crest')"
      ]
    },
    {
      "cell_type": "markdown",
      "metadata": {
        "id": "7ppxoyrShIl5"
      },
      "source": [
        "### 29. Plot the histograms of `Age`, with different colors for different `Sex`"
      ]
    },
    {
      "cell_type": "code",
      "execution_count": null,
      "metadata": {
        "id": "VAE8KNm4hIl5",
        "outputId": "5649bfc1-e153-44f4-fad0-958001f442bc"
      },
      "outputs": [
        {
          "data": {
            "text/plain": [
              "<seaborn.axisgrid.FacetGrid at 0x2ed88c059a0>"
            ]
          },
          "execution_count": 42,
          "metadata": {},
          "output_type": "execute_result"
        },
        {
          "data": {
            "image/png": "[encoded data removed]",
            "text/plain": [
              "<Figure size 764.625x360 with 1 Axes>"
            ]
          },
          "metadata": {
            "needs_background": "light"
          },
          "output_type": "display_data"
        }
      ],
      "source": [
        "sns.displot(data=olympics, x='Age', hue='Sex', aspect=2)"
      ]
    },
    {
      "cell_type": "markdown",
      "metadata": {
        "id": "vhYphq2ahIl6"
      },
      "source": [
        "### 30. Plot the histograms of `Age`, on separate plots for different `Sex`"
      ]
    },
    {
      "cell_type": "code",
      "execution_count": null,
      "metadata": {
        "id": "im1STnq8hIl6",
        "outputId": "68ee1d4a-6578-4e84-92e6-b157b4559d4b"
      },
      "outputs": [
        {
          "data": {
            "text/plain": [
              "<seaborn.axisgrid.FacetGrid at 0x2ed99a85bb0>"
            ]
          },
          "execution_count": 43,
          "metadata": {},
          "output_type": "execute_result"
        },
        {
          "data": {
            "image/png": "[encoded data removed]",
            "text/plain": [
              "<Figure size 1440x360 with 2 Axes>"
            ]
          },
          "metadata": {
            "needs_background": "light"
          },
          "output_type": "display_data"
        }
      ],
      "source": [
        "sns.displot(data=olympics, x='Age', col='Sex', aspect=2)"
      ]
    },
    {
      "cell_type": "markdown",
      "metadata": {
        "id": "kAOQwr_EhIl7"
      },
      "source": [
        "### 31. Look at the changes of average `Age` across `Year` by line charts, with separate lines for different `Season` using different colors"
      ]
    },
    {
      "cell_type": "code",
      "execution_count": null,
      "metadata": {
        "id": "ZDibeUTohIl7",
        "outputId": "6e0005ac-2431-4d50-b94b-aeed03f34b9c"
      },
      "outputs": [
        {
          "data": {
            "text/plain": [
              "<seaborn.axisgrid.FacetGrid at 0x2ed9ea0dfd0>"
            ]
          },
          "execution_count": 44,
          "metadata": {},
          "output_type": "execute_result"
        },
        {
          "data": {
            "image/png": "[encoded data removed]",
            "text/plain": [
              "<Figure size 798.125x360 with 1 Axes>"
            ]
          },
          "metadata": {
            "needs_background": "light"
          },
          "output_type": "display_data"
        }
      ],
      "source": [
        "sns.relplot(data=olympics, x='Year', y='Age', hue='Season', kind='line', aspect=2)"
      ]
    },
    {
      "cell_type": "markdown",
      "metadata": {
        "id": "-8GxyQnIhIl7"
      },
      "source": [
        "### 32. Look at the distributions of `Age` for different `Sex` using boxplots"
      ]
    },
    {
      "cell_type": "code",
      "execution_count": null,
      "metadata": {
        "id": "hoXn54nIhIl7",
        "outputId": "74e9c1bf-4c03-4b3e-dda7-ffe48ebb413f"
      },
      "outputs": [
        {
          "data": {
            "text/plain": [
              "<seaborn.axisgrid.FacetGrid at 0x2ed8c4bec40>"
            ]
          },
          "execution_count": 45,
          "metadata": {},
          "output_type": "execute_result"
        },
        {
          "data": {
            "image/png": "[encoded data removed]",
            "text/plain": [
              "<Figure size 360x360 with 1 Axes>"
            ]
          },
          "metadata": {
            "needs_background": "light"
          },
          "output_type": "display_data"
        }
      ],
      "source": [
        "sns.catplot(data=olympics, x='Sex', y='Age', kind='box')"
      ]
    },
    {
      "cell_type": "markdown",
      "metadata": {
        "id": "OQL9qvTLhIl8"
      },
      "source": [
        "### 33. Look at the distributions of `Age` for different `Sex` using violin plots"
      ]
    },
    {
      "cell_type": "code",
      "execution_count": null,
      "metadata": {
        "id": "SP1jm1YRhIl8",
        "outputId": "308a6d67-973c-4700-f208-c8cf99a5c3b1"
      },
      "outputs": [
        {
          "data": {
            "text/plain": [
              "<seaborn.axisgrid.FacetGrid at 0x2ed8c314670>"
            ]
          },
          "execution_count": 46,
          "metadata": {},
          "output_type": "execute_result"
        },
        {
          "data": {
            "image/png": "[encoded data removed]",
            "text/plain": [
              "<Figure size 360x360 with 1 Axes>"
            ]
          },
          "metadata": {
            "needs_background": "light"
          },
          "output_type": "display_data"
        }
      ],
      "source": [
        "sns.catplot(data=olympics, x='Sex', y='Age', kind='violin')"
      ]
    },
    {
      "cell_type": "markdown",
      "metadata": {
        "id": "RGURDjeuhIl8"
      },
      "source": [
        "### 34. Look at the distributions of `Age` for different `Sex` using boxplots, with different colors of plots for different `Season`"
      ]
    },
    {
      "cell_type": "code",
      "execution_count": null,
      "metadata": {
        "id": "XryuwmKOhIl8",
        "outputId": "0b7b87b1-02cc-494b-ca1f-0ae55d87daf3"
      },
      "outputs": [
        {
          "data": {
            "text/plain": [
              "<seaborn.axisgrid.FacetGrid at 0x2eda7e3a610>"
            ]
          },
          "execution_count": 47,
          "metadata": {},
          "output_type": "execute_result"
        },
        {
          "data": {
            "image/png": "[encoded data removed]",
            "text/plain": [
              "<Figure size 438.125x360 with 1 Axes>"
            ]
          },
          "metadata": {
            "needs_background": "light"
          },
          "output_type": "display_data"
        }
      ],
      "source": [
        "sns.catplot(data=olympics, x='Sex', y='Age', kind='box', hue='Season')"
      ]
    },
    {
      "cell_type": "markdown",
      "metadata": {
        "id": "V632HeGUhIl9"
      },
      "source": [
        "### 35. Use count plots to look at the changes of number of athlete-events across `Year`, for different `Sex` by colors, and different `Season` on separate plots"
      ]
    },
    {
      "cell_type": "code",
      "execution_count": null,
      "metadata": {
        "id": "MJeYPcRBhIl9",
        "outputId": "eb72ff59-cf0a-4fd9-db9f-385ba2b08add"
      },
      "outputs": [
        {
          "data": {
            "text/plain": [
              "<seaborn.axisgrid.FacetGrid at 0x2eda8288100>"
            ]
          },
          "execution_count": 48,
          "metadata": {},
          "output_type": "execute_result"
        },
        {
          "data": {
            "image/png": "[encoded data removed]",
            "text/plain": [
              "<Figure size 1484.62x720 with 2 Axes>"
            ]
          },
          "metadata": {
            "needs_background": "light"
          },
          "output_type": "display_data"
        }
      ],
      "source": [
        "sns.catplot(data=olympics, x='Year', hue='Sex', kind='count', col='Season', col_wrap=1, aspect=4)"
      ]
    },
    {
      "cell_type": "markdown",
      "metadata": {
        "id": "Y1vHP9lwhIl9"
      },
      "source": [
        "Notice the obvious increase of female athlete-events in the Olympics across years."
      ]
    },
    {
      "cell_type": "code",
      "execution_count": null,
      "metadata": {
        "id": "zs_SltzxhIl9"
      },
      "outputs": [],
      "source": []
    }
  ],
  "metadata": {
    "kernelspec": {
      "display_name": "Python 3.9.13 ('boolean')",
      "language": "python",
      "name": "python3"
    },
    "language_info": {
      "codemirror_mode": {
        "name": "ipython",
        "version": 3
      },
      "file_extension": ".py",
      "mimetype": "text/x-python",
      "name": "python",
      "nbconvert_exporter": "python",
      "pygments_lexer": "ipython3",
      "version": "3.9.13"
    },
    "vscode": {
      "interpreter": {
        "hash": "457ffe12f29daa9751af8caaa67db0b17937d88d9b06f0b79fd3bc989b1fc647"
      }
    },
    "colab": {
      "provenance": []
    }
  },
  "nbformat": 4,
  "nbformat_minor": 0
}